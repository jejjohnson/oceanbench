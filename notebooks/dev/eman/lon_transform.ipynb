{
 "cells": [
  {
   "cell_type": "code",
   "execution_count": 11,
   "metadata": {},
   "outputs": [],
   "source": [
    "import sys, os\n",
    "from pyprojroot import here\n",
    "\n",
    "# spyder up to find the root\n",
    "root = here(project_files=[\".home\"])\n",
    "\n",
    "# append to path\n",
    "sys.path.append(str(root))"
   ]
  },
  {
   "cell_type": "code",
   "execution_count": 14,
   "metadata": {},
   "outputs": [],
   "source": [
    "import numpy as np\n",
    "from oceanbench._src.geoprocessing.spatial import convert_lon_180_360\n"
   ]
  },
  {
   "cell_type": "code",
   "execution_count": 15,
   "metadata": {},
   "outputs": [],
   "source": [
    "wrong_lon = np.linspace(-180, 180, 10)\n",
    "right_lon = convert_lon_180_360(wrong_lon)\n",
    "right_lon.min(), right_lon.max()\n",
    "right_lon_t2 = convert_lon_180_360(right_lon)\n",
    "np.testing.assert_array_equal(right_lon, right_lon_t2)\n"
   ]
  },
  {
   "cell_type": "code",
   "execution_count": null,
   "metadata": {},
   "outputs": [],
   "source": []
  }
 ],
 "metadata": {
  "kernelspec": {
   "display_name": "jax_eo_py39",
   "language": "python",
   "name": "python3"
  },
  "language_info": {
   "codemirror_mode": {
    "name": "ipython",
    "version": 3
   },
   "file_extension": ".py",
   "mimetype": "text/x-python",
   "name": "python",
   "nbconvert_exporter": "python",
   "pygments_lexer": "ipython3",
   "version": "3.9.13"
  },
  "orig_nbformat": 4,
  "vscode": {
   "interpreter": {
    "hash": "4dcfe96cdaed3a891ef6ae8f0a0953e810bf5d072e4539466981b4b7b2717676"
   }
  }
 },
 "nbformat": 4,
 "nbformat_minor": 2
}
