{
 "cells": [
  {
   "cell_type": "markdown",
   "id": "d7a79e70",
   "metadata": {},
   "source": [
    "# Regridding Data"
   ]
  },
  {
   "cell_type": "code",
   "execution_count": null,
   "id": "f10196e8",
   "metadata": {},
   "outputs": [],
   "source": [
    "cd .."
   ]
  },
  {
   "cell_type": "code",
   "execution_count": null,
   "id": "45b8faa7",
   "metadata": {},
   "outputs": [],
   "source": [
    "from omegaconf import OmegaConf\n",
    "import hydra\n",
    "import xarray as xr\n",
    "\n",
    "import oceanbench._src.geoprocessing.validation as geoval"
   ]
  },
  {
   "cell_type": "code",
   "execution_count": null,
   "id": "d37918c8",
   "metadata": {},
   "outputs": [],
   "source": [
    "import importlib\n",
    "importlib.reload(geoval)"
   ]
  },
  {
   "cell_type": "code",
   "execution_count": null,
   "id": "4090edaf",
   "metadata": {},
   "outputs": [],
   "source": []
  },
  {
   "cell_type": "code",
   "execution_count": null,
   "id": "4669d7de",
   "metadata": {},
   "outputs": [],
   "source": []
  },
  {
   "cell_type": "code",
   "execution_count": null,
   "id": "539cad4b",
   "metadata": {},
   "outputs": [],
   "source": [
    "raw_natl = xr.open_dataset('../sla-data-registry/NATL60/NATL/ref_new/NATL60-CJM165_NATL_ssh_y2013.1y.nc')"
   ]
  },
  {
   "cell_type": "code",
   "execution_count": null,
   "id": "472518fb",
   "metadata": {},
   "outputs": [],
   "source": [
    "raw_natl"
   ]
  },
  {
   "cell_type": "markdown",
   "id": "7ec938ae",
   "metadata": {},
   "source": [
    "## Preprocessing steps\n",
    "- set time units \"seconds since 2012-10-01\"\n",
    "- decode times to datetime\n",
    "- add longitude and latitude units\n",
    "- add sea surface height unit\n",
    "- select domain"
   ]
  },
  {
   "cell_type": "markdown",
   "id": "d8c08249",
   "metadata": {},
   "source": [
    "**Decode time**"
   ]
  },
  {
   "cell_type": "code",
   "execution_count": null,
   "id": "bf828950",
   "metadata": {},
   "outputs": [],
   "source": [
    "print('Before: ', raw_natl.time)\n",
    "print()\n",
    "natl = geoval.decode_cf_time(raw_natl, units=\"seconds since 2012-10-01\")\n",
    "print('After: ', natl.time)\n",
    "                      "
   ]
  },
  {
   "cell_type": "markdown",
   "id": "af5ae6be",
   "metadata": {},
   "source": [
    "**Validate lat lon coordinates**"
   ]
  },
  {
   "cell_type": "code",
   "execution_count": null,
   "id": "d21d2688",
   "metadata": {},
   "outputs": [],
   "source": [
    "print('Before: ', natl.lon.attrs, natl.lat.attrs)\n",
    "print()\n",
    "natl = geoval.validate_latlon(natl)\n",
    "print('After: ', natl.lon.attrs, natl.lat.attrs)"
   ]
  },
  {
   "cell_type": "markdown",
   "id": "b93d0c99",
   "metadata": {},
   "source": [
    "**Validate ssh variable**"
   ]
  },
  {
   "cell_type": "code",
   "execution_count": null,
   "id": "00570949",
   "metadata": {},
   "outputs": [],
   "source": [
    "print('Before: ', natl.ssh.attrs)\n",
    "print()\n",
    "natl = geoval.validate_ssh(natl)\n",
    "print('After: ', natl.ssh.attrs)\n"
   ]
  },
  {
   "cell_type": "code",
   "execution_count": null,
   "id": "45e6fae6",
   "metadata": {},
   "outputs": [],
   "source": [
    "print('Before: ', natl.dims)\n",
    "print()\n",
    "final_natl = natl.sel(lat=slice(32, 44), lon=slice(-66, -54), time=slice('2013-01-10', '2013-03-10'))\n",
    "print('After: ', final_natl.dims)"
   ]
  },
  {
   "cell_type": "code",
   "execution_count": null,
   "id": "b3d8d521",
   "metadata": {},
   "outputs": [],
   "source": [
    "final_natl"
   ]
  },
  {
   "cell_type": "markdown",
   "id": "c8a341aa",
   "metadata": {},
   "source": [
    "## Using configuration for processing"
   ]
  },
  {
   "cell_type": "code",
   "execution_count": null,
   "id": "b4fafaa5",
   "metadata": {},
   "outputs": [],
   "source": [
    "import yaml\n",
    "from IPython.display import Markdown, display\n",
    "\n",
    "def disp_config(cfg):\n",
    "    display(Markdown(\"\"\"```yaml\\n\"\"\" +yaml.dump(OmegaConf.to_container(cfg), default_flow_style=None, indent=2)+\"\"\"\\n```\"\"\"))"
   ]
  },
  {
   "cell_type": "code",
   "execution_count": null,
   "id": "297bfcaf",
   "metadata": {},
   "outputs": [],
   "source": []
  },
  {
   "cell_type": "code",
   "execution_count": null,
   "id": "65d95eae",
   "metadata": {},
   "outputs": [],
   "source": [
    "data_cfg = OmegaConf.load('config/data/gridded.yaml')\n",
    "data = hydra.utils.call(data_cfg)\n",
    "disp_config(data_cfg)"
   ]
  },
  {
   "cell_type": "code",
   "execution_count": null,
   "id": "ece74fe8",
   "metadata": {},
   "outputs": [],
   "source": [
    "key = 'natl'\n",
    "OmegaConf.resolve(data_cfg[key])\n",
    "disp_config(data_cfg[key])\n",
    "data[key]()"
   ]
  },
  {
   "cell_type": "code",
   "execution_count": null,
   "id": "e7888e8a",
   "metadata": {},
   "outputs": [],
   "source": [
    "key = 'oi'\n",
    "OmegaConf.resolve(data_cfg[key])\n",
    "disp_config(data_cfg[key])\n",
    "data[key]()"
   ]
  },
  {
   "cell_type": "code",
   "execution_count": null,
   "id": "8acabe3f",
   "metadata": {},
   "outputs": [],
   "source": [
    "key = 'obs'\n",
    "OmegaConf.resolve(data_cfg[key])\n",
    "disp_config(data_cfg[key])\n",
    "data[key]()"
   ]
  },
  {
   "cell_type": "code",
   "execution_count": null,
   "id": "332be373",
   "metadata": {},
   "outputs": [],
   "source": [
    "hydra.utils.call(data).natl"
   ]
  },
  {
   "cell_type": "code",
   "execution_count": null,
   "id": "156c9b9d",
   "metadata": {},
   "outputs": [],
   "source": [
    "hydra.utils.call(data_cfg).oi()"
   ]
  },
  {
   "cell_type": "code",
   "execution_count": null,
   "id": "faaf0091",
   "metadata": {},
   "outputs": [],
   "source": []
  }
 ],
 "metadata": {
  "jupytext": {
   "text_representation": {
    "extension": ".md",
    "format_name": "myst",
    "format_version": 0.13,
    "jupytext_version": "1.14.5"
   }
  },
  "kernelspec": {
   "display_name": "oceanbench",
   "language": "python",
   "name": "oceanbench"
  },
  "source_map": [
   12,
   16,
   20,
   28,
   33,
   37,
   41,
   45,
   47,
   56,
   60,
   66,
   70,
   75,
   79,
   87,
   94,
   96,
   100,
   108,
   112,
   118,
   125,
   132,
   139,
   143,
   147
  ]
 },
 "nbformat": 4,
 "nbformat_minor": 5
}