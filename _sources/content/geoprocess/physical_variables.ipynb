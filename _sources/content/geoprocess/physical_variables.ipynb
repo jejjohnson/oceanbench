{
 "cells": [
  {
   "cell_type": "markdown",
   "id": "c3154523",
   "metadata": {},
   "source": [
    "# Physical Variables"
   ]
  },
  {
   "cell_type": "markdown",
   "id": "7f8359bb",
   "metadata": {},
   "source": [
    "> This notebook looks at some canonical transformations of sea surface height (SSH). \n",
    "These are derived variables that can be calculated from SSH and are often very good indicators of performance."
   ]
  },
  {
   "cell_type": "code",
   "execution_count": null,
   "id": "74dbb3e2",
   "metadata": {},
   "outputs": [],
   "source": [
    "import autoroot\n",
    "import typing as tp\n",
    "from dataclasses import dataclass\n",
    "import numpy as np\n",
    "import pandas as pd\n",
    "import xarray as xr\n",
    "import einops\n",
    "import metpy\n",
    "from metpy.units import units\n",
    "import xarray_dataclasses as xrdataclass\n",
    "from oceanbench._src.datasets.base import XRDAPatcher\n",
    "from oceanbench._src.geoprocessing import geostrophic as geocalc\n",
    "import matplotlib.pyplot as plt\n",
    "import seaborn as sns\n",
    "\n",
    "sns.reset_defaults()\n",
    "sns.set_context(context=\"talk\", font_scale=0.7)\n",
    "\n",
    "%load_ext autoreload\n",
    "%autoreload 2"
   ]
  },
  {
   "cell_type": "code",
   "execution_count": null,
   "id": "491e0fea",
   "metadata": {},
   "outputs": [],
   "source": [
    "file = \"/gpfswork/rech/cli/uvo53rl/projects/jejeqx/data/natl60/NATL60-CJM165_GULFSTREAM_ssh_y2013.1y.nc\"\n",
    "!ls $file"
   ]
  },
  {
   "cell_type": "code",
   "execution_count": null,
   "id": "f3d7b68e",
   "metadata": {},
   "outputs": [],
   "source": [
    "da = xr.open_dataset(file, decode_times=False)\n",
    "da[\"time\"] = pd.to_datetime(da.time)\n",
    "da = da.sortby(\"time\")\n",
    "# da = da.coarsen(lat=2, boundary=\"trim\").mean()\n",
    "da = da.sel(time=slice(\"2013-01-01\", \"2013-03-01\"))"
   ]
  },
  {
   "cell_type": "markdown",
   "id": "589148f6",
   "metadata": {},
   "source": [
    "## Sea Surface Height"
   ]
  },
  {
   "cell_type": "markdown",
   "id": "6e2b06d9",
   "metadata": {},
   "source": [
    "$$\n",
    "\\begin{aligned}\n",
    "\\text{Sea Surface Height}[m]: && \n",
    "\\eta &=\\boldsymbol{\\eta}(\\vec{\\mathbf{x}},t) && && \n",
    "\\boldsymbol{\\eta}: \\boldsymbol{\\Omega}\\times\\boldsymbol{T}\\rightarrow\\mathbb{R}\n",
    "\\end{aligned}\n",
    "$$"
   ]
  },
  {
   "cell_type": "code",
   "execution_count": null,
   "id": "b4fccbf8",
   "metadata": {},
   "outputs": [],
   "source": [
    "da[\"ssh\"] = da.ssh * units.meters\n",
    "da[\"ssh\"].attrs[\"units\"] = \"m\"\n",
    "da[\"ssh\"].attrs[\"long_name\"] = \"Sea Surface Height\"\n",
    "da[\"ssh\"].attrs[\"standard_name\"] = \"sea_surface_height\"\n",
    "\n",
    "da[\"lat\"] = da.lat * units.degree_north\n",
    "da[\"lat\"].attrs[\"long_name\"] = \"Latitude\"\n",
    "da[\"lat\"].attrs[\"standard_name\"] = \"latitude\"\n",
    "\n",
    "da[\"lon\"] = da.lon * units.degree_east\n",
    "da[\"lon\"].attrs[\"long_name\"] = \"Longitude\"\n",
    "da[\"lon\"].attrs[\"standard_name\"] = \"longitude\""
   ]
  },
  {
   "cell_type": "code",
   "execution_count": null,
   "id": "73532184",
   "metadata": {},
   "outputs": [],
   "source": [
    "fig, ax = plt.subplots()\n",
    "\n",
    "da.ssh.isel(time=1).plot.pcolormesh(ax=ax, cmap=\"viridis\")\n",
    "\n",
    "plt.show()"
   ]
  },
  {
   "cell_type": "markdown",
   "id": "4364bc4f",
   "metadata": {},
   "source": [
    "## Stream Function"
   ]
  },
  {
   "cell_type": "markdown",
   "id": "840b7635",
   "metadata": {},
   "source": [
    "$$\n",
    "\\begin{aligned}\n",
    "\\text{Stream Function }[ms^{-1}]: && \n",
    "\\psi &=\\boldsymbol{\\psi}(\\vec{\\mathbf{x}},t) && && \n",
    "\\boldsymbol{\\psi}: \\boldsymbol{\\Omega}\\times\\boldsymbol{T}\\rightarrow\\mathbb{R}\n",
    "\\end{aligned}\n",
    "$$\n",
    "\n",
    "$$\n",
    "\\psi = \\frac{g}{f_0}\\eta\n",
    "$$"
   ]
  },
  {
   "cell_type": "markdown",
   "id": "7fbe16a8",
   "metadata": {},
   "source": [
    "#### Coriolis Parameter\n",
    "\n",
    "$$\n",
    "f_0 = 2\\Omega\\sin(\\varphi)\n",
    "$$\n",
    "\n",
    "where:\n",
    "* $\\Omega$ - ...\n",
    "* $\\varphi$ - latitude (radians)"
   ]
  },
  {
   "cell_type": "code",
   "execution_count": null,
   "id": "8d26987d",
   "metadata": {},
   "outputs": [],
   "source": [
    "f0 = metpy.calc.coriolis_parameter(latitude=np.deg2rad(da.lat)).mean()\n",
    "f0"
   ]
  },
  {
   "cell_type": "markdown",
   "id": "e5497f74",
   "metadata": {},
   "source": [
    "#### Gravity"
   ]
  },
  {
   "cell_type": "code",
   "execution_count": null,
   "id": "50030445",
   "metadata": {},
   "outputs": [],
   "source": [
    "from metpy.constants import earth_gravity as GRAVITY"
   ]
  },
  {
   "cell_type": "code",
   "execution_count": null,
   "id": "78140ddc",
   "metadata": {},
   "outputs": [],
   "source": [
    "GRAVITY"
   ]
  },
  {
   "cell_type": "code",
   "execution_count": null,
   "id": "66cfa81a",
   "metadata": {},
   "outputs": [],
   "source": [
    "da = geocalc.streamfunction(da, \"ssh\")"
   ]
  },
  {
   "cell_type": "code",
   "execution_count": null,
   "id": "5fb47472",
   "metadata": {},
   "outputs": [],
   "source": [
    "fig, ax = plt.subplots()\n",
    "\n",
    "da.psi.isel(time=10).plot.pcolormesh(ax=ax, cmap=\"viridis\")\n",
    "\n",
    "plt.show()"
   ]
  },
  {
   "cell_type": "markdown",
   "id": "8953ab7a",
   "metadata": {},
   "source": [
    "## Velocities"
   ]
  },
  {
   "cell_type": "markdown",
   "id": "6d3deac2",
   "metadata": {},
   "source": [
    "$$\n",
    "\\begin{aligned}\n",
    "\\text{U Velocity}[ms^{-1}]: && \n",
    "u &=\\boldsymbol{u}(\\vec{\\mathbf{x}},t) && && \n",
    "\\boldsymbol{\\psi}: \\boldsymbol{\\Omega}\\times\\boldsymbol{T}\\rightarrow\\mathbb{R} \\\\\n",
    "\\text{V Velocity}[ms^{-1}]: && \n",
    "v &=\\boldsymbol{v}(\\vec{\\mathbf{x}},t) && && \n",
    "\\boldsymbol{\\psi}: \\boldsymbol{\\Omega}\\times\\boldsymbol{T}\\rightarrow\\mathbb{R}\n",
    "\\end{aligned}\n",
    "$$\n",
    "\n",
    "$$\n",
    "\\begin{aligned}\n",
    "u = -\\frac{\\partial \\psi}{\\partial y} && \n",
    "v = \\frac{\\partial \\psi}{\\partial x}\n",
    "\\end{aligned}\n",
    "$$"
   ]
  },
  {
   "cell_type": "code",
   "execution_count": null,
   "id": "d806fc69",
   "metadata": {},
   "outputs": [],
   "source": [
    "da = geocalc.geostrophic_velocities(da, variable=\"psi\")"
   ]
  },
  {
   "cell_type": "code",
   "execution_count": null,
   "id": "d2021c64",
   "metadata": {},
   "outputs": [],
   "source": [
    "fig, ax = plt.subplots(ncols=2, figsize=(10,4))\n",
    "\n",
    "da.u.isel(time=10).plot.pcolormesh(ax=ax[0], cmap=\"gray\")\n",
    "da.v.isel(time=10).plot.pcolormesh(ax=ax[1], cmap=\"gray\")\n",
    "\n",
    "plt.tight_layout()\n",
    "plt.show()"
   ]
  },
  {
   "cell_type": "markdown",
   "id": "c6dd4e3d",
   "metadata": {},
   "source": [
    "## Kinetic Energy"
   ]
  },
  {
   "cell_type": "markdown",
   "id": "9789f790",
   "metadata": {},
   "source": [
    "$$\n",
    "\\begin{aligned}\n",
    "E &= \\frac{1}{2}\\int \\mathbf{u}^2dr \\\\\n",
    "E &\\approx \\frac{1}{2} \\mathbb{E}\\left[ \\mathbf{u}^2\\right] \\\\\n",
    "&= \\frac{1}{2} \\mathbb{E}\\left[ u^2 + v^2\\right]\n",
    "\\end{aligned}\n",
    "$$"
   ]
  },
  {
   "cell_type": "code",
   "execution_count": null,
   "id": "878cb3de",
   "metadata": {},
   "outputs": [],
   "source": [
    "da = geocalc.kinetic_energy(da, variables=[\"u\", \"v\"])"
   ]
  },
  {
   "cell_type": "code",
   "execution_count": null,
   "id": "480b6ac7",
   "metadata": {},
   "outputs": [],
   "source": [
    "fig, ax = plt.subplots()\n",
    "\n",
    "da.ke.isel(time=1).plot.pcolormesh(ax=ax, cmap=\"YlGnBu_r\", robust=True)\n",
    "\n",
    "plt.show()"
   ]
  },
  {
   "cell_type": "markdown",
   "id": "0b6ca531",
   "metadata": {},
   "source": [
    "## Relative Vorticity"
   ]
  },
  {
   "cell_type": "markdown",
   "id": "0cfd0811",
   "metadata": {},
   "source": [
    "Somtimes called the *vertical vorticity*.\n",
    "\n",
    "\n",
    "\n",
    "$$\n",
    "\\zeta = \\frac{\\partial v}{\\partial x} - \\frac{\\partial u}{\\partial y}\n",
    "$$\n",
    "\n",
    "Note that the u,v velocities can be calculated from the stream function as\n",
    "\n",
    "$$\n",
    "\\begin{aligned}\n",
    "u &= -\\frac{\\partial \\psi}{\\partial y} && &&\n",
    "v = \\frac{\\partial \\psi}{\\partial x}\\\\\n",
    "\\end{aligned}\n",
    "$$\n",
    "\n",
    "So plugging these into the equation, we get:\n",
    "\n",
    "$$\n",
    "\\begin{aligned}\n",
    "\\zeta &= \n",
    "\\frac{\\partial}{\\partial x}\\left(\\frac{\\partial \\psi}{\\partial x}\\right) - \n",
    "\\frac{\\partial}{\\partial y}\\left( -\\frac{\\partial \\psi}{\\partial y}\\right) \\\\\n",
    "\\zeta &= \n",
    "\\frac{\\partial^2 \\psi}{\\partial x^2}+ \\frac{\\partial^2 \\psi}{\\partial y^2}\\\\\n",
    "\\zeta &=\\nabla^2\\psi\n",
    "\\end{aligned}\n",
    "$$\n",
    "\n",
    "We can also calculate a normalized version\n",
    "\n",
    "$$\n",
    "\\bar{\\zeta} = \\frac{\\zeta}{f_0}\n",
    "$$\n",
    "\n",
    "Note: This is closely related to the geostrophic eqns:\n",
    "\n",
    "$$\n",
    "\\begin{aligned}\n",
    "\\text{Relative Vorticity }[s^{-1}]: && \n",
    "\\zeta &=\\boldsymbol{\\zeta}(\\vec{\\mathbf{x}},t) && && \n",
    "\\boldsymbol{\\xi}: \\boldsymbol{\\Omega}\\times\\boldsymbol{T}\\rightarrow\\mathbb{R}\n",
    "\\end{aligned}\n",
    "$$\n",
    "\n",
    "$$\n",
    "\\zeta = \\nabla^2\\psi\n",
    "$$"
   ]
  },
  {
   "cell_type": "code",
   "execution_count": null,
   "id": "e9886b19",
   "metadata": {},
   "outputs": [],
   "source": [
    "da = geocalc.relative_vorticity(da, variables=[\"u\", \"v\"])\n",
    "# da = geocalc.coriolis_normalized(da, \"vort_r\")"
   ]
  },
  {
   "cell_type": "code",
   "execution_count": null,
   "id": "52d01329",
   "metadata": {},
   "outputs": [],
   "source": [
    "fig, ax = plt.subplots()\n",
    "\n",
    "da.vort_r.isel(time=1).plot.pcolormesh(ax=ax, cmap=\"RdBu_r\")\n",
    "\n",
    "plt.show()"
   ]
  },
  {
   "cell_type": "markdown",
   "id": "01422729",
   "metadata": {},
   "source": [
    "## Absolute Vorticity"
   ]
  },
  {
   "cell_type": "markdown",
   "id": "bfd6baf1",
   "metadata": {},
   "source": [
    "Somtimes called the *horizontal divergence*.\n",
    "\n",
    "\n",
    "\n",
    "$$\n",
    "\\zeta = \\frac{\\partial v}{\\partial x} + \\frac{\\partial u}{\\partial y}\n",
    "$$\n",
    "\n",
    "Note that the u,v velocities can be calculated from the stream function as\n",
    "\n",
    "$$\n",
    "\\begin{aligned}\n",
    "u &= -\\frac{\\partial \\psi}{\\partial y} && &&\n",
    "v = \\frac{\\partial \\psi}{\\partial x}\\\\\n",
    "\\end{aligned}\n",
    "$$\n",
    "\n",
    "So plugging these into the equation, we get:\n",
    "\n",
    "$$\n",
    "\\begin{aligned}\n",
    "\\zeta &= \n",
    "\\frac{\\partial}{\\partial x}\\left(\\frac{\\partial \\psi}{\\partial x}\\right) + \n",
    "\\frac{\\partial}{\\partial y}\\left( -\\frac{\\partial \\psi}{\\partial y}\\right) \\\\\n",
    "\\zeta &= \n",
    "\\frac{\\partial^2 \\psi}{\\partial x^2} - \\frac{\\partial^2 \\psi}{\\partial y^2}\n",
    "\\end{aligned}\n",
    "$$\n",
    "\n",
    "We can also calculate a normalized version\n",
    "\n",
    "$$\n",
    "\\bar{\\zeta} = \\frac{\\zeta}{f_0}\n",
    "$$"
   ]
  },
  {
   "cell_type": "code",
   "execution_count": null,
   "id": "6e82d594",
   "metadata": {},
   "outputs": [],
   "source": [
    "da = geocalc.absolute_vorticity(da, variables=[\"u\", \"v\"])\n",
    "da = geocalc.coriolis_normalized(da, \"vort_a\")"
   ]
  },
  {
   "cell_type": "code",
   "execution_count": null,
   "id": "8260541f",
   "metadata": {},
   "outputs": [],
   "source": [
    "fig, ax = plt.subplots()\n",
    "\n",
    "da.vort_a.isel(time=10).plot.pcolormesh(ax=ax, cmap=\"RdBu_r\")\n",
    "\n",
    "plt.show()"
   ]
  },
  {
   "cell_type": "markdown",
   "id": "116d932a",
   "metadata": {},
   "source": [
    "## Divergence"
   ]
  },
  {
   "cell_type": "markdown",
   "id": "1418754e",
   "metadata": {},
   "source": [
    "$$\n",
    "\\nabla \\cdot \\vec{\\mathbf{u}} = \\frac{\\partial u}{\\partial x} + \\frac{\\partial v}{\\partial y}\n",
    "$$"
   ]
  },
  {
   "cell_type": "code",
   "execution_count": null,
   "id": "6e155cea",
   "metadata": {},
   "outputs": [],
   "source": [
    "da = geocalc.divergence(da, variables=[\"u\", \"v\"])\n",
    "da = geocalc.coriolis_normalized(da, \"div\")"
   ]
  },
  {
   "cell_type": "code",
   "execution_count": null,
   "id": "5dc9e4cf",
   "metadata": {},
   "outputs": [],
   "source": [
    "fig, ax = plt.subplots()\n",
    "\n",
    "da.div.isel(time=10).plot.pcolormesh(ax=ax, cmap=\"RdBu_r\")\n",
    "\n",
    "plt.show()"
   ]
  },
  {
   "cell_type": "markdown",
   "id": "efb98645",
   "metadata": {},
   "source": [
    "## Enstropy"
   ]
  },
  {
   "cell_type": "markdown",
   "id": "10f5b718",
   "metadata": {},
   "source": [
    "This is a summarization of the relative vorticity\n",
    "\n",
    "$$\n",
    "\\begin{aligned}\n",
    "Z &= \\frac{1}{2}\\int \\zeta^2 dr \\\\\n",
    "Z &\\approx \\frac{1}{2} \\mathbb{E}\\left[ \\zeta^2 \\right] \\\\\n",
    "\\end{aligned}\n",
    "$$"
   ]
  },
  {
   "cell_type": "code",
   "execution_count": null,
   "id": "365f86aa",
   "metadata": {},
   "outputs": [],
   "source": [
    "da = geocalc.enstrophy(da, variable=\"vort_r\")\n",
    "da = geocalc.coriolis_normalized(da, \"ens\")"
   ]
  },
  {
   "cell_type": "code",
   "execution_count": null,
   "id": "85a72e43",
   "metadata": {},
   "outputs": [],
   "source": [
    "fig, ax = plt.subplots()\n",
    "\n",
    "da.ens.isel(time=10).plot.pcolormesh(ax=ax, cmap=\"RdBu_r\")\n",
    "\n",
    "plt.show()"
   ]
  },
  {
   "cell_type": "markdown",
   "id": "1c736ae1",
   "metadata": {},
   "source": [
    "## Strain"
   ]
  },
  {
   "cell_type": "markdown",
   "id": "ece193f9",
   "metadata": {},
   "source": [
    "### Shear Strain"
   ]
  },
  {
   "cell_type": "markdown",
   "id": "3984feda",
   "metadata": {},
   "source": [
    "We also have the *Shearing Deformation* given by:\n",
    "\n",
    "$$\n",
    "S_s = \\frac{\\partial v}{\\partial x} + \\frac{\\partial u}{\\partial y}\n",
    "$$"
   ]
  },
  {
   "cell_type": "code",
   "execution_count": null,
   "id": "9d896e00",
   "metadata": {},
   "outputs": [],
   "source": [
    "da = geocalc.shear_strain(da, variables=[\"u\", \"v\"])\n",
    "da"
   ]
  },
  {
   "cell_type": "code",
   "execution_count": null,
   "id": "e371fcdd",
   "metadata": {},
   "outputs": [],
   "source": [
    "fig, ax = plt.subplots()\n",
    "\n",
    "da.shear_strain.isel(time=10).plot.pcolormesh(ax=ax, cmap=\"RdBu_r\")\n",
    "\n",
    "plt.show()"
   ]
  },
  {
   "cell_type": "markdown",
   "id": "4d2e7c6c",
   "metadata": {},
   "source": [
    "### Normal Strain"
   ]
  },
  {
   "cell_type": "markdown",
   "id": "cb05b218",
   "metadata": {},
   "source": [
    "Sometimes called *Stretching Deformation*.\n",
    "\n",
    "\n",
    "$$\n",
    "\\sigma_n = \\frac{\\partial u}{\\partial x} - \\frac{\\partial v}{\\partial y}\n",
    "$$"
   ]
  },
  {
   "cell_type": "code",
   "execution_count": null,
   "id": "be384bf5",
   "metadata": {},
   "outputs": [],
   "source": [
    "da = geocalc.tensor_strain(da, variables=[\"u\", \"v\"])"
   ]
  },
  {
   "cell_type": "code",
   "execution_count": null,
   "id": "c2e3a2e5",
   "metadata": {},
   "outputs": [],
   "source": [
    "fig, ax = plt.subplots()\n",
    "\n",
    "da.tensor_strain.isel(time=10).plot.pcolormesh(ax=ax, cmap=\"RdBu_r\")\n",
    "\n",
    "plt.show()"
   ]
  },
  {
   "cell_type": "markdown",
   "id": "704f1881",
   "metadata": {},
   "source": [
    "### Strain Magnitude"
   ]
  },
  {
   "cell_type": "markdown",
   "id": "98a79a5a",
   "metadata": {},
   "source": [
    "Often, we are interested in the  give by:\n",
    "\n",
    "$$\n",
    "\\sigma = \\sqrt{\\sigma_n^2 + \\sigma_s^2}\n",
    "$$\n",
    "\n",
    "**Note**: Also known as the *total deformation*.\n",
    "\n",
    "The normal and shear strains are coordinate invariant.\n",
    "The vorticity and divergence and strain magnitude is coordinate invariant!\n",
    "\n",
    "Often times, we use the relative strain magnitude:\n",
    "\n",
    "$$\n",
    "\\bar{\\sigma} = \\frac{\\sigma}{f_0}\n",
    "$$"
   ]
  },
  {
   "cell_type": "code",
   "execution_count": null,
   "id": "e9939a4e",
   "metadata": {},
   "outputs": [],
   "source": [
    "da = geocalc.strain_magnitude(da, variables=[\"u\", \"v\"])\n",
    "da = geocalc.coriolis_normalized(da, variable=\"strain\")"
   ]
  },
  {
   "cell_type": "code",
   "execution_count": null,
   "id": "9d492983",
   "metadata": {},
   "outputs": [],
   "source": [
    "import cmocean as cmo\n",
    "\n",
    "fig, ax = plt.subplots()\n",
    "\n",
    "da.strain.isel(time=10).plot.pcolormesh(ax=ax, cmap=cmo.cm.speed, robust=True)\n",
    "\n",
    "plt.show()"
   ]
  },
  {
   "cell_type": "markdown",
   "id": "534ecc85",
   "metadata": {},
   "source": [
    "## Okubo-Weiss Parameter"
   ]
  },
  {
   "cell_type": "markdown",
   "id": "479d1c55",
   "metadata": {},
   "source": [
    "> OW parameter [Okubo, 1970; Weiss, 1991] describes the relative dominance of deformation with respect to rotation of the flow.\n",
    "\n",
    "This is a combination of the Strain (deformation rate) and the vorticity\n",
    "\n",
    "$$\n",
    "\\sigma_o = \\sigma_n^2 + \\sigma_s^2 - \\zeta^2\n",
    "$$\n",
    "\n",
    "where:\n",
    "\n",
    "$$\n",
    "\\begin{aligned}\n",
    "\\text{Normal Strain}: && &&\n",
    "\\sigma_n &= \\frac{\\partial u}{\\partial x} - \\frac{\\partial v}{\\partial y} \\\\\n",
    "\\text{Shear Strain}: && &&\n",
    "\\sigma_s &= \\frac{\\partial v}{\\partial x} + \\frac{\\partial u}{\\partial y} \\\\\n",
    "\\text{Relative Vorticity}: && &&\n",
    "\\zeta &= \\frac{\\partial v}{\\partial x} - \\frac{\\partial u}{\\partial y}\n",
    "\\end{aligned}\n",
    "$$\n",
    "\n",
    "**Sources**:\n",
    "\n",
    "* [Wiki](https://en.wikipedia.org/wiki/Okubo%E2%80%93Weiss_parameter)\n",
    "* [Paper](https://agupubs.onlinelibrary.wiley.com/doi/full/10.1002/jgrc.20318)\n",
    "* [Eddy-Tracker Python Lib](https://py-eddy-tracker.readthedocs.io/en/stable/python_module/06_grid_manipulation/pet_okubo_weiss.html)"
   ]
  },
  {
   "cell_type": "code",
   "execution_count": null,
   "id": "6fbe5ee7",
   "metadata": {},
   "outputs": [],
   "source": [
    "da = geocalc.okubo_weiss_param(da, variables=[\"u\", \"v\"])"
   ]
  },
  {
   "cell_type": "code",
   "execution_count": null,
   "id": "1fdb5f11",
   "metadata": {},
   "outputs": [],
   "source": [
    "import cmocean as cmo\n",
    "\n",
    "fig, ax = plt.subplots()\n",
    "\n",
    "da.ow.isel(time=10).plot.contourf(ax=ax, cmap=\"cividis\")\n",
    "\n",
    "plt.show()"
   ]
  },
  {
   "cell_type": "code",
   "execution_count": null,
   "id": "6462349c",
   "metadata": {},
   "outputs": [],
   "source": []
  },
  {
   "cell_type": "code",
   "execution_count": null,
   "id": "e787e834",
   "metadata": {},
   "outputs": [],
   "source": []
  }
 ],
 "metadata": {
  "jupytext": {
   "text_representation": {
    "extension": ".md",
    "format_name": "myst",
    "format_version": 0.13,
    "jupytext_version": "1.14.5"
   }
  },
  "kernelspec": {
   "display_name": "Python [conda env:miniconda3-jejeqx]",
   "language": "python",
   "name": "conda-env-miniconda3-jejeqx-py"
  },
  "source_map": [
   12,
   16,
   21,
   44,
   49,
   55,
   59,
   69,
   84,
   90,
   94,
   108,
   120,
   123,
   127,
   131,
   135,
   139,
   145,
   149,
   173,
   177,
   185,
   189,
   199,
   203,
   209,
   213,
   265,
   270,
   276,
   280,
   317,
   322,
   328,
   332,
   338,
   343,
   349,
   353,
   364,
   369,
   375,
   379,
   383,
   391,
   396,
   402,
   406,
   415,
   419,
   425,
   429,
   448,
   453,
   461,
   465,
   494,
   498,
   508,
   512
  ]
 },
 "nbformat": 4,
 "nbformat_minor": 5
}