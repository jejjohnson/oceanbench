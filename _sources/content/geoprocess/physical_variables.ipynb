{
 "cells": [
  {
   "cell_type": "markdown",
   "id": "1388d6ac",
   "metadata": {},
   "source": [
    "# Physical Variables"
   ]
  },
  {
   "cell_type": "markdown",
   "id": "4826e54a",
   "metadata": {},
   "source": [
    "> This notebook looks at some canonical transformations of sea surface height (SSH). \n",
    "These are derived variables that can be calculated from SSH and are often very good indicators of performance."
   ]
  },
  {
   "cell_type": "code",
   "execution_count": null,
   "id": "f5160266",
   "metadata": {},
   "outputs": [],
   "source": [
    "import autoroot\n",
    "import typing as tp\n",
    "from dataclasses import dataclass\n",
    "import numpy as np\n",
    "import pandas as pd\n",
    "import xarray as xr\n",
    "import einops\n",
    "import metpy\n",
    "from metpy.units import units\n",
    "import xarray_dataclasses as xrdataclass\n",
    "from oceanbench._src.datasets.base import XRDAPatcher\n",
    "from oceanbench._src.geoprocessing import geostrophic as geocalc\n",
    "import matplotlib.pyplot as plt\n",
    "import seaborn as sns\n",
    "\n",
    "sns.reset_defaults()\n",
    "sns.set_context(context=\"talk\", font_scale=0.7)\n",
    "\n",
    "%load_ext autoreload\n",
    "%autoreload 2"
   ]
  },
  {
   "cell_type": "code",
   "execution_count": null,
   "id": "39b4f17e",
   "metadata": {},
   "outputs": [],
   "source": [
    "file = \"/gpfswork/rech/cli/uvo53rl/projects/jejeqx/data/natl60/NATL60-CJM165_GULFSTREAM_ssh_y2013.1y.nc\"\n",
    "!ls $file"
   ]
  },
  {
   "cell_type": "code",
   "execution_count": null,
   "id": "27d62bb8",
   "metadata": {},
   "outputs": [],
   "source": [
    "da = xr.open_dataset(file, decode_times=False)\n",
    "da[\"time\"] = pd.to_datetime(da.time)\n",
    "da = da.sortby(\"time\")\n",
    "# da = da.coarsen(lat=2, boundary=\"trim\").mean()\n",
    "da = da.sel(time=slice(\"2013-01-01\", \"2013-03-01\"))"
   ]
  },
  {
   "cell_type": "markdown",
   "id": "0b2d05ee",
   "metadata": {},
   "source": [
    "## Sea Surface Height"
   ]
  },
  {
   "cell_type": "markdown",
   "id": "1c3b3410",
   "metadata": {},
   "source": [
    "$$\n",
    "\\begin{aligned}\n",
    "\\text{Sea Surface Height}[m]: && \n",
    "\\eta &=\\boldsymbol{\\eta}(\\vec{\\mathbf{x}},t) && && \n",
    "\\boldsymbol{\\eta}: \\boldsymbol{\\Omega}\\times\\boldsymbol{T}\\rightarrow\\mathbb{R}\n",
    "\\end{aligned}\n",
    "$$"
   ]
  },
  {
   "cell_type": "code",
   "execution_count": null,
   "id": "b09d54ac",
   "metadata": {},
   "outputs": [],
   "source": [
    "da[\"ssh\"] = da.ssh * units.meters\n",
    "da[\"ssh\"].attrs[\"units\"] = \"m\"\n",
    "da[\"ssh\"].attrs[\"long_name\"] = \"Sea Surface Height\"\n",
    "da[\"ssh\"].attrs[\"standard_name\"] = \"sea_surface_height\"\n",
    "\n",
    "da[\"lat\"] = da.lat * units.degree_north\n",
    "da[\"lat\"].attrs[\"long_name\"] = \"Latitude\"\n",
    "da[\"lat\"].attrs[\"standard_name\"] = \"latitude\"\n",
    "\n",
    "da[\"lon\"] = da.lon * units.degree_east\n",
    "da[\"lon\"].attrs[\"long_name\"] = \"Longitude\"\n",
    "da[\"lon\"].attrs[\"standard_name\"] = \"longitude\""
   ]
  },
  {
   "cell_type": "code",
   "execution_count": null,
   "id": "26dfe885",
   "metadata": {},
   "outputs": [],
   "source": [
    "fig, ax = plt.subplots()\n",
    "\n",
    "da.ssh.isel(time=1).plot.pcolormesh(ax=ax, cmap=\"viridis\")\n",
    "\n",
    "plt.show()"
   ]
  },
  {
   "cell_type": "markdown",
   "id": "b502c5de",
   "metadata": {},
   "source": [
    "## Stream Function"
   ]
  },
  {
   "cell_type": "markdown",
   "id": "4667c1c8",
   "metadata": {},
   "source": [
    "$$\n",
    "\\begin{aligned}\n",
    "\\text{Stream Function }[ms^{-1}]: && \n",
    "\\psi &=\\boldsymbol{\\psi}(\\vec{\\mathbf{x}},t) && && \n",
    "\\boldsymbol{\\psi}: \\boldsymbol{\\Omega}\\times\\boldsymbol{T}\\rightarrow\\mathbb{R}\n",
    "\\end{aligned}\n",
    "$$\n",
    "\n",
    "$$\n",
    "\\psi = \\frac{g}{f_0}\\eta\n",
    "$$"
   ]
  },
  {
   "cell_type": "markdown",
   "id": "54253e4b",
   "metadata": {},
   "source": [
    "#### Coriolis Parameter\n",
    "\n",
    "$$\n",
    "f_0 = 2\\Omega\\sin(\\varphi)\n",
    "$$\n",
    "\n",
    "where:\n",
    "* $\\Omega$ - ...\n",
    "* $\\varphi$ - latitude (radians)"
   ]
  },
  {
   "cell_type": "code",
   "execution_count": null,
   "id": "4351a68b",
   "metadata": {},
   "outputs": [],
   "source": [
    "f0 = metpy.calc.coriolis_parameter(latitude=np.deg2rad(da.lat)).mean()\n",
    "f0"
   ]
  },
  {
   "cell_type": "markdown",
   "id": "23e73ab7",
   "metadata": {},
   "source": [
    "#### Gravity"
   ]
  },
  {
   "cell_type": "code",
   "execution_count": null,
   "id": "1bf7c268",
   "metadata": {},
   "outputs": [],
   "source": [
    "from metpy.constants import earth_gravity as GRAVITY"
   ]
  },
  {
   "cell_type": "code",
   "execution_count": null,
   "id": "8d3205af",
   "metadata": {},
   "outputs": [],
   "source": [
    "GRAVITY"
   ]
  },
  {
   "cell_type": "code",
   "execution_count": null,
   "id": "834c0ded",
   "metadata": {},
   "outputs": [],
   "source": [
    "da = geocalc.streamfunction(da, \"ssh\")"
   ]
  },
  {
   "cell_type": "code",
   "execution_count": null,
   "id": "70a1a8cd",
   "metadata": {},
   "outputs": [],
   "source": [
    "fig, ax = plt.subplots()\n",
    "\n",
    "da.psi.isel(time=10).plot.pcolormesh(ax=ax, cmap=\"viridis\")\n",
    "\n",
    "plt.show()"
   ]
  },
  {
   "cell_type": "markdown",
   "id": "cd321041",
   "metadata": {},
   "source": [
    "## Velocities"
   ]
  },
  {
   "cell_type": "markdown",
   "id": "01df9984",
   "metadata": {},
   "source": [
    "$$\n",
    "\\begin{aligned}\n",
    "\\text{U Velocity}[ms^{-1}]: && \n",
    "u &=\\boldsymbol{u}(\\vec{\\mathbf{x}},t) && && \n",
    "\\boldsymbol{\\psi}: \\boldsymbol{\\Omega}\\times\\boldsymbol{T}\\rightarrow\\mathbb{R} \\\\\n",
    "\\text{V Velocity}[ms^{-1}]: && \n",
    "v &=\\boldsymbol{v}(\\vec{\\mathbf{x}},t) && && \n",
    "\\boldsymbol{\\psi}: \\boldsymbol{\\Omega}\\times\\boldsymbol{T}\\rightarrow\\mathbb{R}\n",
    "\\end{aligned}\n",
    "$$\n",
    "\n",
    "$$\n",
    "\\begin{aligned}\n",
    "u = -\\frac{\\partial \\psi}{\\partial y} && \n",
    "v = \\frac{\\partial \\psi}{\\partial x}\n",
    "\\end{aligned}\n",
    "$$"
   ]
  },
  {
   "cell_type": "code",
   "execution_count": null,
   "id": "9360dd5f",
   "metadata": {},
   "outputs": [],
   "source": [
    "da = geocalc.geostrophic_velocities(da, variable=\"psi\")"
   ]
  },
  {
   "cell_type": "code",
   "execution_count": null,
   "id": "3fe63ae9",
   "metadata": {},
   "outputs": [],
   "source": [
    "fig, ax = plt.subplots(ncols=2, figsize=(10,4))\n",
    "\n",
    "da.u.isel(time=10).plot.pcolormesh(ax=ax[0], cmap=\"gray\")\n",
    "da.v.isel(time=10).plot.pcolormesh(ax=ax[1], cmap=\"gray\")\n",
    "\n",
    "plt.tight_layout()\n",
    "plt.show()"
   ]
  },
  {
   "cell_type": "markdown",
   "id": "127a5f2f",
   "metadata": {},
   "source": [
    "## Kinetic Energy"
   ]
  },
  {
   "cell_type": "markdown",
   "id": "41fbc33c",
   "metadata": {},
   "source": [
    "$$\n",
    "\\begin{aligned}\n",
    "E &= \\frac{1}{2}\\int \\mathbf{u}^2dr \\\\\n",
    "E &\\approx \\frac{1}{2} \\mathbb{E}\\left[ \\mathbf{u}^2\\right] \\\\\n",
    "&= \\frac{1}{2} \\mathbb{E}\\left[ u^2 + v^2\\right]\n",
    "\\end{aligned}\n",
    "$$"
   ]
  },
  {
   "cell_type": "code",
   "execution_count": null,
   "id": "ee5f33a3",
   "metadata": {},
   "outputs": [],
   "source": [
    "da = geocalc.kinetic_energy(da, variables=[\"u\", \"v\"])"
   ]
  },
  {
   "cell_type": "code",
   "execution_count": null,
   "id": "d7693d24",
   "metadata": {},
   "outputs": [],
   "source": [
    "fig, ax = plt.subplots()\n",
    "\n",
    "da.ke.isel(time=1).plot.pcolormesh(ax=ax, cmap=\"YlGnBu_r\", robust=True)\n",
    "\n",
    "plt.show()"
   ]
  },
  {
   "cell_type": "markdown",
   "id": "ab468a0d",
   "metadata": {},
   "source": [
    "## Relative Vorticity"
   ]
  },
  {
   "cell_type": "markdown",
   "id": "fe306a1f",
   "metadata": {},
   "source": [
    "Somtimes called the *vertical vorticity*.\n",
    "\n",
    "\n",
    "\n",
    "$$\n",
    "\\zeta = \\frac{\\partial v}{\\partial x} - \\frac{\\partial u}{\\partial y}\n",
    "$$\n",
    "\n",
    "Note that the u,v velocities can be calculated from the stream function as\n",
    "\n",
    "$$\n",
    "\\begin{aligned}\n",
    "u &= -\\frac{\\partial \\psi}{\\partial y} && &&\n",
    "v = \\frac{\\partial \\psi}{\\partial x}\\\\\n",
    "\\end{aligned}\n",
    "$$\n",
    "\n",
    "So plugging these into the equation, we get:\n",
    "\n",
    "$$\n",
    "\\begin{aligned}\n",
    "\\zeta &= \n",
    "\\frac{\\partial}{\\partial x}\\left(\\frac{\\partial \\psi}{\\partial x}\\right) - \n",
    "\\frac{\\partial}{\\partial y}\\left( -\\frac{\\partial \\psi}{\\partial y}\\right) \\\\\n",
    "\\zeta &= \n",
    "\\frac{\\partial^2 \\psi}{\\partial x^2}+ \\frac{\\partial^2 \\psi}{\\partial y^2}\\\\\n",
    "\\zeta &=\\nabla^2\\psi\n",
    "\\end{aligned}\n",
    "$$\n",
    "\n",
    "We can also calculate a normalized version\n",
    "\n",
    "$$\n",
    "\\bar{\\zeta} = \\frac{\\zeta}{f_0}\n",
    "$$\n",
    "\n",
    "Note: This is closely related to the geostrophic eqns:\n",
    "\n",
    "$$\n",
    "\\begin{aligned}\n",
    "\\text{Relative Vorticity }[s^{-1}]: && \n",
    "\\zeta &=\\boldsymbol{\\zeta}(\\vec{\\mathbf{x}},t) && && \n",
    "\\boldsymbol{\\xi}: \\boldsymbol{\\Omega}\\times\\boldsymbol{T}\\rightarrow\\mathbb{R}\n",
    "\\end{aligned}\n",
    "$$\n",
    "\n",
    "$$\n",
    "\\zeta = \\nabla^2\\psi\n",
    "$$"
   ]
  },
  {
   "cell_type": "code",
   "execution_count": null,
   "id": "0137ae9f",
   "metadata": {},
   "outputs": [],
   "source": [
    "da = geocalc.relative_vorticity(da, variables=[\"u\", \"v\"])\n",
    "# da = geocalc.coriolis_normalized(da, \"vort_r\")"
   ]
  },
  {
   "cell_type": "code",
   "execution_count": null,
   "id": "ad927eb2",
   "metadata": {},
   "outputs": [],
   "source": [
    "fig, ax = plt.subplots()\n",
    "\n",
    "da.vort_r.isel(time=1).plot.pcolormesh(ax=ax, cmap=\"RdBu_r\")\n",
    "\n",
    "plt.show()"
   ]
  },
  {
   "cell_type": "markdown",
   "id": "ea4a8b8d",
   "metadata": {},
   "source": [
    "## Absolute Vorticity"
   ]
  },
  {
   "cell_type": "markdown",
   "id": "d003ca2d",
   "metadata": {},
   "source": [
    "Somtimes called the *horizontal divergence*.\n",
    "\n",
    "\n",
    "\n",
    "$$\n",
    "\\zeta = \\frac{\\partial v}{\\partial x} + \\frac{\\partial u}{\\partial y}\n",
    "$$\n",
    "\n",
    "Note that the u,v velocities can be calculated from the stream function as\n",
    "\n",
    "$$\n",
    "\\begin{aligned}\n",
    "u &= -\\frac{\\partial \\psi}{\\partial y} && &&\n",
    "v = \\frac{\\partial \\psi}{\\partial x}\\\\\n",
    "\\end{aligned}\n",
    "$$\n",
    "\n",
    "So plugging these into the equation, we get:\n",
    "\n",
    "$$\n",
    "\\begin{aligned}\n",
    "\\zeta &= \n",
    "\\frac{\\partial}{\\partial x}\\left(\\frac{\\partial \\psi}{\\partial x}\\right) + \n",
    "\\frac{\\partial}{\\partial y}\\left( -\\frac{\\partial \\psi}{\\partial y}\\right) \\\\\n",
    "\\zeta &= \n",
    "\\frac{\\partial^2 \\psi}{\\partial x^2} - \\frac{\\partial^2 \\psi}{\\partial y^2}\n",
    "\\end{aligned}\n",
    "$$\n",
    "\n",
    "We can also calculate a normalized version\n",
    "\n",
    "$$\n",
    "\\bar{\\zeta} = \\frac{\\zeta}{f_0}\n",
    "$$"
   ]
  },
  {
   "cell_type": "code",
   "execution_count": null,
   "id": "b54959fa",
   "metadata": {},
   "outputs": [],
   "source": [
    "da = geocalc.absolute_vorticity(da, variables=[\"u\", \"v\"])\n",
    "da = geocalc.coriolis_normalized(da, \"vort_a\")"
   ]
  },
  {
   "cell_type": "code",
   "execution_count": null,
   "id": "3d293899",
   "metadata": {},
   "outputs": [],
   "source": [
    "fig, ax = plt.subplots()\n",
    "\n",
    "da.vort_a.isel(time=10).plot.pcolormesh(ax=ax, cmap=\"RdBu_r\")\n",
    "\n",
    "plt.show()"
   ]
  },
  {
   "cell_type": "markdown",
   "id": "71ebdfd5",
   "metadata": {},
   "source": [
    "## Divergence"
   ]
  },
  {
   "cell_type": "markdown",
   "id": "88bc504d",
   "metadata": {},
   "source": [
    "$$\n",
    "\\nabla \\cdot \\vec{\\mathbf{u}} = \\frac{\\partial u}{\\partial x} + \\frac{\\partial v}{\\partial y}\n",
    "$$"
   ]
  },
  {
   "cell_type": "code",
   "execution_count": null,
   "id": "a7e3c281",
   "metadata": {},
   "outputs": [],
   "source": [
    "da = geocalc.divergence(da, variables=[\"u\", \"v\"])\n",
    "da = geocalc.coriolis_normalized(da, \"div\")"
   ]
  },
  {
   "cell_type": "code",
   "execution_count": null,
   "id": "39455553",
   "metadata": {},
   "outputs": [],
   "source": [
    "fig, ax = plt.subplots()\n",
    "\n",
    "da.div.isel(time=10).plot.pcolormesh(ax=ax, cmap=\"RdBu_r\")\n",
    "\n",
    "plt.show()"
   ]
  },
  {
   "cell_type": "markdown",
   "id": "847489ad",
   "metadata": {},
   "source": [
    "## Enstropy"
   ]
  },
  {
   "cell_type": "markdown",
   "id": "4c2ff99b",
   "metadata": {},
   "source": [
    "This is a summarization of the relative vorticity\n",
    "\n",
    "$$\n",
    "\\begin{aligned}\n",
    "Z &= \\frac{1}{2}\\int \\zeta^2 dr \\\\\n",
    "Z &\\approx \\frac{1}{2} \\mathbb{E}\\left[ \\zeta^2 \\right] \\\\\n",
    "\\end{aligned}\n",
    "$$"
   ]
  },
  {
   "cell_type": "code",
   "execution_count": null,
   "id": "1f39dcde",
   "metadata": {},
   "outputs": [],
   "source": [
    "da = geocalc.enstrophy(da, variable=\"vort_r\")\n",
    "da = geocalc.coriolis_normalized(da, \"ens\")"
   ]
  },
  {
   "cell_type": "code",
   "execution_count": null,
   "id": "9aa6bb2b",
   "metadata": {},
   "outputs": [],
   "source": [
    "fig, ax = plt.subplots()\n",
    "\n",
    "da.ens.isel(time=10).plot.pcolormesh(ax=ax, cmap=\"RdBu_r\")\n",
    "\n",
    "plt.show()"
   ]
  },
  {
   "cell_type": "markdown",
   "id": "218db81e",
   "metadata": {},
   "source": [
    "## Strain"
   ]
  },
  {
   "cell_type": "markdown",
   "id": "bc8c8350",
   "metadata": {},
   "source": [
    "### Shear Strain"
   ]
  },
  {
   "cell_type": "markdown",
   "id": "f7f78589",
   "metadata": {},
   "source": [
    "We also have the *Shearing Deformation* given by:\n",
    "\n",
    "$$\n",
    "S_s = \\frac{\\partial v}{\\partial x} + \\frac{\\partial u}{\\partial y}\n",
    "$$"
   ]
  },
  {
   "cell_type": "code",
   "execution_count": null,
   "id": "55a2cf0e",
   "metadata": {},
   "outputs": [],
   "source": [
    "da = geocalc.shear_strain(da, variables=[\"u\", \"v\"])\n",
    "da"
   ]
  },
  {
   "cell_type": "code",
   "execution_count": null,
   "id": "3099c439",
   "metadata": {},
   "outputs": [],
   "source": [
    "fig, ax = plt.subplots()\n",
    "\n",
    "da.shear_strain.isel(time=10).plot.pcolormesh(ax=ax, cmap=\"RdBu_r\")\n",
    "\n",
    "plt.show()"
   ]
  },
  {
   "cell_type": "markdown",
   "id": "5b4094a5",
   "metadata": {},
   "source": [
    "### Normal Strain"
   ]
  },
  {
   "cell_type": "markdown",
   "id": "3888201f",
   "metadata": {},
   "source": [
    "Sometimes called *Stretching Deformation*.\n",
    "\n",
    "\n",
    "$$\n",
    "\\sigma_n = \\frac{\\partial u}{\\partial x} - \\frac{\\partial v}{\\partial y}\n",
    "$$"
   ]
  },
  {
   "cell_type": "code",
   "execution_count": null,
   "id": "11e0940a",
   "metadata": {},
   "outputs": [],
   "source": [
    "da = geocalc.tensor_strain(da, variables=[\"u\", \"v\"])"
   ]
  },
  {
   "cell_type": "code",
   "execution_count": null,
   "id": "fdb8dd38",
   "metadata": {},
   "outputs": [],
   "source": [
    "fig, ax = plt.subplots()\n",
    "\n",
    "da.tensor_strain.isel(time=10).plot.pcolormesh(ax=ax, cmap=\"RdBu_r\")\n",
    "\n",
    "plt.show()"
   ]
  },
  {
   "cell_type": "markdown",
   "id": "da86604a",
   "metadata": {},
   "source": [
    "### Strain Magnitude"
   ]
  },
  {
   "cell_type": "markdown",
   "id": "e15ae42a",
   "metadata": {},
   "source": [
    "Often, we are interested in the  give by:\n",
    "\n",
    "$$\n",
    "\\sigma = \\sqrt{\\sigma_n^2 + \\sigma_s^2}\n",
    "$$\n",
    "\n",
    "**Note**: Also known as the *total deformation*.\n",
    "\n",
    "The normal and shear strains are coordinate invariant.\n",
    "The vorticity and divergence and strain magnitude is coordinate invariant!\n",
    "\n",
    "Often times, we use the relative strain magnitude:\n",
    "\n",
    "$$\n",
    "\\bar{\\sigma} = \\frac{\\sigma}{f_0}\n",
    "$$"
   ]
  },
  {
   "cell_type": "code",
   "execution_count": null,
   "id": "30763575",
   "metadata": {},
   "outputs": [],
   "source": [
    "da = geocalc.strain_magnitude(da, variables=[\"u\", \"v\"])\n",
    "da = geocalc.coriolis_normalized(da, variable=\"strain\")"
   ]
  },
  {
   "cell_type": "code",
   "execution_count": null,
   "id": "b55bb35e",
   "metadata": {},
   "outputs": [],
   "source": [
    "import cmocean as cmo\n",
    "\n",
    "fig, ax = plt.subplots()\n",
    "\n",
    "da.strain.isel(time=10).plot.pcolormesh(ax=ax, cmap=cmo.cm.speed, robust=True)\n",
    "\n",
    "plt.show()"
   ]
  },
  {
   "cell_type": "markdown",
   "id": "a4df34ae",
   "metadata": {},
   "source": [
    "## Okubo-Weiss Parameter"
   ]
  },
  {
   "cell_type": "markdown",
   "id": "e0f841d5",
   "metadata": {},
   "source": [
    "> OW parameter [Okubo, 1970; Weiss, 1991] describes the relative dominance of deformation with respect to rotation of the flow.\n",
    "\n",
    "This is a combination of the Strain (deformation rate) and the vorticity\n",
    "\n",
    "$$\n",
    "\\sigma_o = \\sigma_n^2 + \\sigma_s^2 - \\zeta^2\n",
    "$$\n",
    "\n",
    "where:\n",
    "\n",
    "$$\n",
    "\\begin{aligned}\n",
    "\\text{Normal Strain}: && &&\n",
    "\\sigma_n &= \\frac{\\partial u}{\\partial x} - \\frac{\\partial v}{\\partial y} \\\\\n",
    "\\text{Shear Strain}: && &&\n",
    "\\sigma_s &= \\frac{\\partial v}{\\partial x} + \\frac{\\partial u}{\\partial y} \\\\\n",
    "\\text{Relative Vorticity}: && &&\n",
    "\\zeta &= \\frac{\\partial v}{\\partial x} - \\frac{\\partial u}{\\partial y}\n",
    "\\end{aligned}\n",
    "$$\n",
    "\n",
    "**Sources**:\n",
    "\n",
    "* [Wiki](https://en.wikipedia.org/wiki/Okubo%E2%80%93Weiss_parameter)\n",
    "* [Paper](https://agupubs.onlinelibrary.wiley.com/doi/full/10.1002/jgrc.20318)\n",
    "* [Eddy-Tracker Python Lib](https://py-eddy-tracker.readthedocs.io/en/stable/python_module/06_grid_manipulation/pet_okubo_weiss.html)"
   ]
  },
  {
   "cell_type": "code",
   "execution_count": null,
   "id": "45b405fe",
   "metadata": {},
   "outputs": [],
   "source": [
    "da = geocalc.okubo_weiss_param(da, variables=[\"u\", \"v\"])"
   ]
  },
  {
   "cell_type": "code",
   "execution_count": null,
   "id": "9e54f5b7",
   "metadata": {},
   "outputs": [],
   "source": [
    "import cmocean as cmo\n",
    "\n",
    "fig, ax = plt.subplots()\n",
    "\n",
    "da.ow.isel(time=10).plot.contourf(ax=ax, cmap=\"cividis\")\n",
    "\n",
    "plt.show()"
   ]
  },
  {
   "cell_type": "code",
   "execution_count": null,
   "id": "4672a597",
   "metadata": {},
   "outputs": [],
   "source": []
  },
  {
   "cell_type": "code",
   "execution_count": null,
   "id": "65859602",
   "metadata": {},
   "outputs": [],
   "source": []
  }
 ],
 "metadata": {
  "jupytext": {
   "text_representation": {
    "extension": ".md",
    "format_name": "myst",
    "format_version": 0.13,
    "jupytext_version": "1.14.5"
   }
  },
  "kernelspec": {
   "display_name": "Python [conda env:miniconda3-jejeqx]",
   "language": "python",
   "name": "conda-env-miniconda3-jejeqx-py"
  },
  "source_map": [
   12,
   16,
   21,
   44,
   49,
   55,
   59,
   69,
   84,
   90,
   94,
   108,
   120,
   123,
   127,
   131,
   135,
   139,
   145,
   149,
   173,
   177,
   185,
   189,
   199,
   203,
   209,
   213,
   265,
   270,
   276,
   280,
   317,
   322,
   328,
   332,
   338,
   343,
   349,
   353,
   364,
   369,
   375,
   379,
   383,
   391,
   396,
   402,
   406,
   415,
   419,
   425,
   429,
   448,
   453,
   461,
   465,
   494,
   498,
   508,
   512
  ]
 },
 "nbformat": 4,
 "nbformat_minor": 5
}