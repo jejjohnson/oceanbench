{
 "cells": [
  {
   "cell_type": "markdown",
   "id": "d24825a4",
   "metadata": {},
   "source": [
    "# Scaling Domains"
   ]
  },
  {
   "cell_type": "markdown",
   "id": "7c123c95",
   "metadata": {},
   "source": [
    "> This demo notebook showcases some key functions for scaling coordinates. \n",
    "> We often need to use semantic coordinate values that are actually useful for computation. \n",
    "> So for example, lat/lon coordinates are often in the spherical domain. But for many physical problems, we need them in meters. \n",
    "> Similarly with time coordinates: we often have `np.datetime64` coordinate values but we need them in seconds.\n",
    "\n",
    "**Note**: There are some more meaningful rescaling that involve the mean and variance (`StandardScaler`) or specific min/max values (`MinMaxScaler`) but this is an arbitrary transformation that isn't specific to coordinate values."
   ]
  },
  {
   "cell_type": "code",
   "execution_count": null,
   "id": "be07e7bb",
   "metadata": {},
   "outputs": [],
   "source": [
    "import autoroot\n",
    "import typing as tp\n",
    "from dataclasses import dataclass\n",
    "import numpy as np\n",
    "import pandas as pd\n",
    "import xarray as xr\n",
    "import einops\n",
    "import xarray_dataclasses as xrdataclass\n",
    "from oceanbench._src.datasets.base import XRDAPatcher\n",
    "\n",
    "%load_ext autoreload\n",
    "%autoreload 2"
   ]
  },
  {
   "cell_type": "code",
   "execution_count": null,
   "id": "0d751cf1",
   "metadata": {},
   "outputs": [],
   "source": [
    "file = \"/gpfswork/rech/cli/uvo53rl/projects/jejeqx/data/natl60/NATL60-CJM165_GULFSTREAM_ssh_y2013.1y.nc\"\n",
    "!ls $file"
   ]
  },
  {
   "cell_type": "code",
   "execution_count": null,
   "id": "4c242064",
   "metadata": {},
   "outputs": [],
   "source": [
    "da = xr.open_dataset(file, decode_times=False)\n",
    "da[\"time\"] = pd.to_datetime(da.time)\n",
    "da = da.sortby(\"time\")"
   ]
  },
  {
   "cell_type": "markdown",
   "id": "0ff61281",
   "metadata": {},
   "source": [
    "## Spatial Rescaling"
   ]
  },
  {
   "cell_type": "markdown",
   "id": "6ba23dcb",
   "metadata": {},
   "source": [
    "#### Degrees to Meters"
   ]
  },
  {
   "cell_type": "code",
   "execution_count": null,
   "id": "32397c84",
   "metadata": {},
   "outputs": [],
   "source": [
    "from oceanbench._src.geoprocessing.spatial import latlon_deg2m"
   ]
  },
  {
   "cell_type": "code",
   "execution_count": null,
   "id": "c7be4804",
   "metadata": {},
   "outputs": [],
   "source": [
    "da_scaled = latlon_deg2m(da, mean=False)\n",
    "da_scaled"
   ]
  },
  {
   "cell_type": "markdown",
   "id": "35626371",
   "metadata": {},
   "source": [
    "## Temporal Rescaling"
   ]
  },
  {
   "cell_type": "markdown",
   "id": "78f83dba",
   "metadata": {},
   "source": [
    "#### DateTime 2 Seconds"
   ]
  },
  {
   "cell_type": "code",
   "execution_count": null,
   "id": "da12d7d8",
   "metadata": {},
   "outputs": [],
   "source": [
    "from oceanbench._src.geoprocessing.temporal import time_rescale\n",
    "import pandas as pd"
   ]
  },
  {
   "cell_type": "code",
   "execution_count": null,
   "id": "10af1271",
   "metadata": {},
   "outputs": [],
   "source": [
    "t0 = \"2012-12-15\"\n",
    "freq_dt = 1\n",
    "freq_unit = \"D\"\n",
    "\n",
    "\n",
    "da_scale = time_rescale(da_scaled, freq_dt=freq_dt, freq_unit=freq_unit, t0=t0)\n",
    "\n",
    "da_scale"
   ]
  },
  {
   "cell_type": "code",
   "execution_count": null,
   "id": "7542199e",
   "metadata": {},
   "outputs": [],
   "source": []
  }
 ],
 "metadata": {
  "jupytext": {
   "text_representation": {
    "extension": ".md",
    "format_name": "myst",
    "format_version": 0.13,
    "jupytext_version": "1.14.5"
   }
  },
  "kernelspec": {
   "display_name": "Python [conda env:miniconda3-jejeqx]",
   "language": "python",
   "name": "conda-env-miniconda3-jejeqx-py"
  },
  "source_map": [
   12,
   16,
   25,
   40,
   45,
   49,
   53,
   57,
   61,
   64,
   68,
   72,
   77,
   88
  ]
 },
 "nbformat": 4,
 "nbformat_minor": 5
}