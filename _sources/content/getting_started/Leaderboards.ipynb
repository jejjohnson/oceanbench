{
 "cells": [
  {
   "cell_type": "markdown",
   "id": "5126d63f-92fc-461f-8aa9-376a63d6dbec",
   "metadata": {},
   "source": [
    "# Leaderboards"
   ]
  },
  {
   "cell_type": "markdown",
   "id": "bfc6de6e-dee4-4f34-b4e5-09656c0bd60d",
   "metadata": {
    "tags": []
   },
   "source": [
    "### Task 1\n",
    "|    |   nrmse | lambda_x_isotrop   | lambda_x_spacetime   | lambda_t_spacetime   | method     | task                         |\n",
    "|---:|--------:|:-------------------|:---------------------|:---------------------|:-----------|:-----------------------------|\n",
    "|  0 |   0.927 | 88.18 km           | 138.64 km            | 10.43 days           | bfn        | DC2020 OSSE Gulfstream Nadir |\n",
    "|  1 |   0.942 | 64.59 km           | 116.63 km            | 7.74 days            | 4dvarnet   | DC2020 OSSE Gulfstream Nadir |\n",
    "|  2 |   0.915 | 122.62 km          | 174.49 km            | 10.77 days           | duacs      | DC2020 OSSE Gulfstream Nadir |\n",
    "|  3 |   0.911 | 118.61 km          | 156.46 km            | 11.50 days           | dymost     | DC2020 OSSE Gulfstream Nadir |\n",
    "|  4 |   0.927 | 99.85 km           | 157.37 km            | 10.07 days           | miost      | DC2020 OSSE Gulfstream Nadir |\n",
    "|  5 |   0.932 | 91.73 km           | 152.92 km            | 11.37 days           | nerf_ffn   | DC2020 OSSE Gulfstream Nadir |\n",
    "|  6 |   0.92  | 90.76 km           | 164.83 km            | 8.15 days            | nerf_mlp   | DC2020 OSSE Gulfstream Nadir |\n",
    "|  7 |   0.914 | 97.77 km           | 156.76 km            | 13.07 days           | nerf_siren | DC2020 OSSE Gulfstream Nadir |\n",
    "\n",
    "### Task 2\n",
    "|    |   nrmse | lambda_x_isotrop   | lambda_x_spacetime   | lambda_t_spacetime   | method     | task                                |\n",
    "|---:|--------:|:-------------------|:---------------------|:---------------------|:-----------|:------------------------------------|\n",
    "|  0 |   0.935 | 64.45 km           | 118.11 km            | 35.95 days           | bfn        | DC2020 OSSE Gulfstream Nadir + Swot |\n",
    "|  1 |   0.959 | 47.00 km           | 77.35 km             | 5.60 days            | 4dvarnet   | DC2020 OSSE Gulfstream Nadir + Swot |\n",
    "|  2 |   0.921 | 105.68 km          | 138.61 km            | 11.65 days           | duacs      | DC2020 OSSE Gulfstream Nadir + Swot |\n",
    "|  3 |   0.926 | 107.75 km          | 135.28 km            | 9.93 days            | dymost     | DC2020 OSSE Gulfstream Nadir + Swot |\n",
    "|  4 |   0.938 | 87.64 km           | 131.21 km            | 10.13 days           | miost      | DC2020 OSSE Gulfstream Nadir + Swot |\n",
    "|  5 |   0.937 | 90.45 km           | 140.77 km            | 8.18 days            | nerf_ffn   | DC2020 OSSE Gulfstream Nadir + Swot |\n",
    "|  6 |   0.936 | 87.61 km           | 153.43 km            | 9.36 days            | nerf_mlp   | DC2020 OSSE Gulfstream Nadir + Swot |\n",
    "|  7 |   0.934 | 87.47 km           | 136.72 km            | 8.35 days            | nerf_siren | DC2020 OSSE Gulfstream Nadir + Swot |\n",
    "\n",
    "### Task 3\n",
    "|    |   nrmse | lambda_x_isotrop   | lambda_x_spacetime   | lambda_t_spacetime   | method   | task                        |\n",
    "|---:|--------:|:-------------------|:---------------------|:---------------------|:---------|:----------------------------|\n",
    "|  0 |   0.946 | 45.70 km           | 137.66 km            | 4.14 days            | musti    | OSSE Gulfstream Nadir + SST |\n",
    "|  1 |   0.959 | 45.62 km           | 87.32 km             | 3.72 days            | 4dvarnet | OSSE Gulfstream Nadir + SST |\n",
    "\n",
    "### Task 4\n",
    "\n",
    "|    |   nrmse | lambda_x_alongtrack   | method       | task                  |\n",
    "|---:|--------:|:----------------------|:-------------|:----------------------|\n",
    "|  0 |   0.884 | 121.65 km             | bfn          | DC2021 OSE Gulfstream |\n",
    "|  1 |   0.909 | 97.90 km              | 4dvarnet     | DC2021 OSE Gulfstream |\n",
    "|  2 |   0.894 | 113.41 km             | convlstm     | DC2021 OSE Gulfstream |\n",
    "|  3 |   0.902 | 107.54 km             | convlstm_sst | DC2021 OSE Gulfstream |\n",
    "|  4 |   0.903 | 112.09 km             | musti        | DC2021 OSE Gulfstream |\n",
    "|  5 |   0.882 | 150.91 km             | duacs        | DC2021 OSE Gulfstream |\n",
    "|  6 |   0.898 | 130.60 km             | dymost       | DC2021 OSE Gulfstream |\n",
    "|  7 |   0.896 | 135.33 km             | miost        | DC2021 OSE Gulfstream |"
   ]
  },
  {
   "cell_type": "code",
   "execution_count": 1,
   "id": "adde1825-9e11-47bc-b0a4-1eaacfac660a",
   "metadata": {
    "tags": []
   },
   "outputs": [
    {
     "name": "stdout",
     "output_type": "stream",
     "text": [
      "/raid/localscratch/qfebvre/oceanbench\n"
     ]
    }
   ],
   "source": [
    "from pathlib import Path\n",
    "if Path('.').absolute().name == 'notebooks':\n",
    "    %cd .."
   ]
  },
  {
   "cell_type": "code",
   "execution_count": 2,
   "id": "85122ea8-eb9c-4911-a0c5-79eb0a1478ad",
   "metadata": {
    "tags": []
   },
   "outputs": [
    {
     "name": "stdout",
     "output_type": "stream",
     "text": [
      "env: LOGURU_LEVEL=WARNING\n"
     ]
    }
   ],
   "source": [
    "%env LOGURU_LEVEL=WARNING\n",
    "import xarray as xr\n",
    "import hydra"
   ]
  },
  {
   "cell_type": "code",
   "execution_count": 3,
   "id": "72204247-6239-4071-bbaf-548dc57eefa9",
   "metadata": {
    "tags": []
   },
   "outputs": [],
   "source": [
    "import yaml\n",
    "import inspect\n",
    "from IPython.display import Markdown, display\n",
    "from omegaconf import OmegaConf\n",
    "\n",
    "def pprint_cfg(cfg):\n",
    "    display(Markdown(\"\"\"```yaml\\n\\n\"\"\" +yaml.dump(OmegaConf.to_container(cfg), default_flow_style=None, indent=2)+\"\"\"\\n\\n```\"\"\"))\n",
    "\n",
    "def task_cfg(task_name):\n",
    "    with hydra.initialize('../config', version_base='1.3'):\n",
    "        cfg_task = hydra.compose(f'task/{task_name}/task').task.outputs\n",
    "    pprint_cfg(cfg_task)"
   ]
  },
  {
   "cell_type": "markdown",
   "id": "0853e8e9-1c64-4399-889f-69fc9007d32f",
   "metadata": {
    "tags": []
   },
   "source": [
    "## Task 1: OSSE GF Nadirs"
   ]
  },
  {
   "cell_type": "code",
   "execution_count": 4,
   "id": "47361349-544b-4555-a6f0-080b5709fa67",
   "metadata": {
    "tags": []
   },
   "outputs": [
    {
     "data": {
      "text/markdown": [
       "```yaml\n",
       "\n",
       "data: {obs: '${...data.outputs.nadir_gridded}', ssh: '${...data.outputs.ssh}'}\n",
       "domain:\n",
       "  lat: [33, 43]\n",
       "  lon: [-65, -55]\n",
       "name: DC2020 OSSE Gulfstream Nadir\n",
       "splits:\n",
       "  test: ['2012-10-22', '2012-12-02']\n",
       "  trainval: ['2013-01-01', '2013-09-30']\n",
       "\n",
       "\n",
       "```"
      ],
      "text/plain": [
       "<IPython.core.display.Markdown object>"
      ]
     },
     "metadata": {},
     "output_type": "display_data"
    }
   ],
   "source": [
    "task_cfg('osse_gf_nadir')"
   ]
  },
  {
   "cell_type": "code",
   "execution_count": 15,
   "id": "792f1a8a-0883-45a0-8064-a8fd6d53a57f",
   "metadata": {
    "tags": []
   },
   "outputs": [
    {
     "name": "stdout",
     "output_type": "stream",
     "text": [
      "[2023-10-09 12:26:08,098][HYDRA] Launching 8 jobs locally\n",
      "[2023-10-09 12:26:08,099][HYDRA] \t#0 : method=bfn task=osse_gf_nadir/leaderboard\n",
      "[2023-10-09 12:26:16,550][HYDRA] \t#1 : method=4dvarnet task=osse_gf_nadir/leaderboard\n",
      "[2023-10-09 12:26:23,625][HYDRA] \t#2 : method=duacs task=osse_gf_nadir/leaderboard\n",
      "[2023-10-09 12:26:31,505][HYDRA] \t#3 : method=dymost task=osse_gf_nadir/leaderboard\n",
      "[2023-10-09 12:26:38,834][HYDRA] \t#4 : method=miost task=osse_gf_nadir/leaderboard\n",
      "[2023-10-09 12:26:45,435][HYDRA] \t#5 : method=nerf_ffn task=osse_gf_nadir/leaderboard\n",
      "[2023-10-09 12:26:53,715][HYDRA] \t#6 : method=nerf_mlp task=osse_gf_nadir/leaderboard\n",
      "[2023-10-09 12:27:03,211][HYDRA] \t#7 : method=nerf_siren task=osse_gf_nadir/leaderboard\n",
      "|    |   nrmse | lambda_x_isotrop   | lambda_x_spacetime   | lambda_t_spacetime   | method     | task                         |\n",
      "|---:|--------:|:-------------------|:---------------------|:---------------------|:-----------|:-----------------------------|\n",
      "|  0 |   0.927 | 88.18 km           | 138.64 km            | 10.43 days           | bfn        | DC2020 OSSE Gulfstream Nadir |\n",
      "|  1 |   0.944 | 64.80 km           | 97.51 km             | 7.84 days            | 4dvarnet   | DC2020 OSSE Gulfstream Nadir |\n",
      "|  2 |   0.915 | 122.62 km          | 174.49 km            | 10.77 days           | duacs      | DC2020 OSSE Gulfstream Nadir |\n",
      "|  3 |   0.911 | 118.61 km          | 156.46 km            | 11.50 days           | dymost     | DC2020 OSSE Gulfstream Nadir |\n",
      "|  4 |   0.927 | 99.85 km           | 157.37 km            | 10.07 days           | miost      | DC2020 OSSE Gulfstream Nadir |\n",
      "|  5 |   0.932 | 91.73 km           | 152.92 km            | 11.37 days           | nerf_ffn   | DC2020 OSSE Gulfstream Nadir |\n",
      "|  6 |   0.92  | 90.76 km           | 164.83 km            | 8.15 days            | nerf_mlp   | DC2020 OSSE Gulfstream Nadir |\n",
      "|  7 |   0.914 | 97.77 km           | 156.76 km            | 13.07 days           | nerf_siren | DC2020 OSSE Gulfstream Nadir |\n"
     ]
    }
   ],
   "source": [
    "%run oceanbench/__main__.py -m task=osse_gf_nadir/leaderboard"
   ]
  },
  {
   "cell_type": "markdown",
   "id": "52b24b12-c90b-4209-b6ac-e83934017b96",
   "metadata": {},
   "source": [
    "## Task 2: OSSE GF Nadirs + SWOT"
   ]
  },
  {
   "cell_type": "code",
   "execution_count": 7,
   "id": "742158bc-3480-4ece-bf52-f7026a614a46",
   "metadata": {
    "tags": []
   },
   "outputs": [
    {
     "data": {
      "text/markdown": [
       "```yaml\n",
       "\n",
       "data: {obs: '${...data.outputs.swot_gridded}', ssh: '${...data.outputs.ssh}'}\n",
       "domain:\n",
       "  lat: [33, 43]\n",
       "  lon: [-65, -55]\n",
       "name: DC2020 OSSE Gulfstream Nadir + Swot\n",
       "splits:\n",
       "  test: ['2012-10-22', '2012-12-02']\n",
       "  trainval: ['2013-01-01', '2013-09-30']\n",
       "\n",
       "\n",
       "```"
      ],
      "text/plain": [
       "<IPython.core.display.Markdown object>"
      ]
     },
     "metadata": {},
     "output_type": "display_data"
    }
   ],
   "source": [
    "task_cfg('osse_gf_nadirswot')"
   ]
  },
  {
   "cell_type": "code",
   "execution_count": 8,
   "id": "c4d4676e-a36d-442e-9308-9f46d2fd7514",
   "metadata": {
    "tags": []
   },
   "outputs": [
    {
     "name": "stdout",
     "output_type": "stream",
     "text": [
      "[2023-10-09 11:55:26,012][HYDRA] Launching 8 jobs locally\n",
      "[2023-10-09 11:55:26,012][HYDRA] \t#0 : method=bfn task=osse_gf_nadirswot/leaderboard\n",
      "[2023-10-09 11:55:34,297][HYDRA] \t#1 : method=4dvarnet task=osse_gf_nadirswot/leaderboard\n",
      "[2023-10-09 11:55:41,771][HYDRA] \t#2 : method=duacs task=osse_gf_nadirswot/leaderboard\n",
      "[2023-10-09 11:55:48,604][HYDRA] \t#3 : method=dymost task=osse_gf_nadirswot/leaderboard\n",
      "[2023-10-09 11:55:55,942][HYDRA] \t#4 : method=miost task=osse_gf_nadirswot/leaderboard\n",
      "[2023-10-09 11:56:03,289][HYDRA] \t#5 : method=nerf_ffn task=osse_gf_nadirswot/leaderboard\n",
      "[2023-10-09 11:56:10,677][HYDRA] \t#6 : method=nerf_mlp task=osse_gf_nadirswot/leaderboard\n",
      "[2023-10-09 11:56:20,857][HYDRA] \t#7 : method=nerf_siren task=osse_gf_nadirswot/leaderboard\n",
      "|    |   nrmse | lambda_x_isotrop   | lambda_x_spacetime   | lambda_t_spacetime   | method     | task                                |\n",
      "|---:|--------:|:-------------------|:---------------------|:---------------------|:-----------|:------------------------------------|\n",
      "|  0 |   0.935 | 64.45 km           | 118.11 km            | 35.95 days           | bfn        | DC2020 OSSE Gulfstream Nadir + Swot |\n",
      "|  1 |   0.959 | 47.00 km           | 77.35 km             | 5.60 days            | 4dvarnet   | DC2020 OSSE Gulfstream Nadir + Swot |\n",
      "|  2 |   0.921 | 105.68 km          | 138.61 km            | 11.65 days           | duacs      | DC2020 OSSE Gulfstream Nadir + Swot |\n",
      "|  3 |   0.926 | 107.75 km          | 135.28 km            | 9.93 days            | dymost     | DC2020 OSSE Gulfstream Nadir + Swot |\n",
      "|  4 |   0.938 | 87.64 km           | 131.21 km            | 10.13 days           | miost      | DC2020 OSSE Gulfstream Nadir + Swot |\n",
      "|  5 |   0.937 | 90.45 km           | 140.77 km            | 8.18 days            | nerf_ffn   | DC2020 OSSE Gulfstream Nadir + Swot |\n",
      "|  6 |   0.936 | 87.61 km           | 153.43 km            | 9.36 days            | nerf_mlp   | DC2020 OSSE Gulfstream Nadir + Swot |\n",
      "|  7 |   0.934 | 87.47 km           | 136.72 km            | 8.35 days            | nerf_siren | DC2020 OSSE Gulfstream Nadir + Swot |\n"
     ]
    }
   ],
   "source": [
    "%run oceanbench/__main__.py -m task=osse_gf_nadirswot/leaderboard"
   ]
  },
  {
   "cell_type": "markdown",
   "id": "10c7ea89-b4f7-4aea-b59b-2d5170707041",
   "metadata": {},
   "source": [
    "## Task 3: OSSE GF: Nadir + SST"
   ]
  },
  {
   "cell_type": "code",
   "execution_count": 9,
   "id": "ad6d5d57-dee7-4878-b7b3-18a704db4c91",
   "metadata": {
    "tags": []
   },
   "outputs": [
    {
     "data": {
      "text/markdown": [
       "```yaml\n",
       "\n",
       "data: {obs: '${...data.outputs.nadir_gridded}', ssh: '${...data.outputs.ssh}', sst: '${...data.outputs.sst}'}\n",
       "domain:\n",
       "  lat: [33, 43]\n",
       "  lon: [-65, -55]\n",
       "name: OSSE Gulfstream Nadir + SST\n",
       "splits:\n",
       "  test: ['2012-10-22', '2012-12-02']\n",
       "  trainval: ['2013-01-01', '2013-09-30']\n",
       "\n",
       "\n",
       "```"
      ],
      "text/plain": [
       "<IPython.core.display.Markdown object>"
      ]
     },
     "metadata": {},
     "output_type": "display_data"
    }
   ],
   "source": [
    "task_cfg('osse_gf_nadir_sst')"
   ]
  },
  {
   "cell_type": "code",
   "execution_count": 10,
   "id": "368fba14-c0b3-4b6a-b2be-5d3fd60a6d2c",
   "metadata": {
    "tags": []
   },
   "outputs": [
    {
     "name": "stdout",
     "output_type": "stream",
     "text": [
      "[2023-10-09 11:56:38,993][HYDRA] Launching 2 jobs locally\n",
      "[2023-10-09 11:56:38,994][HYDRA] \t#0 : method=musti task=osse_gf_nadir_sst/leaderboard\n",
      "[2023-10-09 11:56:45,548][HYDRA] \t#1 : method=4dvarnet task=osse_gf_nadir_sst/leaderboard\n",
      "|    |   nrmse | lambda_x_isotrop   | lambda_x_spacetime   | lambda_t_spacetime   | method   | task                        |\n",
      "|---:|--------:|:-------------------|:---------------------|:---------------------|:---------|:----------------------------|\n",
      "|  0 |   0.946 | 45.70 km           | 137.66 km            | 4.14 days            | musti    | OSSE Gulfstream Nadir + SST |\n",
      "|  1 |   0.959 | 45.62 km           | 87.32 km             | 3.72 days            | 4dvarnet | OSSE Gulfstream Nadir + SST |\n"
     ]
    }
   ],
   "source": [
    "%run oceanbench/__main__.py -m task=osse_gf_nadir_sst/leaderboard "
   ]
  },
  {
   "cell_type": "markdown",
   "id": "a2a9d5fd-8000-45bd-8436-8354445ff504",
   "metadata": {},
   "source": [
    "## Task 4: OSE GF"
   ]
  },
  {
   "cell_type": "code",
   "execution_count": 11,
   "id": "69b34040-c789-4b02-8b43-bd164571ebe5",
   "metadata": {
    "tags": []
   },
   "outputs": [
    {
     "data": {
      "text/markdown": [
       "```yaml\n",
       "\n",
       "data:\n",
       "  test: {c2: '${....data.outputs.c2}'}\n",
       "  train: {alg: '${....data.outputs.alg}', h2g: '${....data.outputs.h2g}', j2g: '${....data.outputs.j2g}',\n",
       "    j2n: '${....data.outputs.j2n}', j3: '${....data.outputs.j3}', s3a: '${....data.outputs.s3a}'}\n",
       "domain:\n",
       "  lat: [33, 43]\n",
       "  lon: [-65, -55]\n",
       "name: DC2021 OSE Gulfstream\n",
       "splits:\n",
       "  test: ['2017-01-01', '2017-12-31']\n",
       "  train: ['2016-12-01', '2018-01-31']\n",
       "\n",
       "\n",
       "```"
      ],
      "text/plain": [
       "<IPython.core.display.Markdown object>"
      ]
     },
     "metadata": {},
     "output_type": "display_data"
    }
   ],
   "source": [
    "task_cfg('ose_gf')"
   ]
  },
  {
   "cell_type": "code",
   "execution_count": 13,
   "id": "d0d43900-409d-4b06-ad03-1c5e90fc9f2d",
   "metadata": {
    "tags": []
   },
   "outputs": [
    {
     "name": "stdout",
     "output_type": "stream",
     "text": [
      "[2023-10-09 12:18:24,644][HYDRA] Launching 8 jobs locally\n",
      "[2023-10-09 12:18:24,644][HYDRA] \t#0 : method=bfn task=ose_gf/leaderboard\n",
      "[2023-10-09 12:18:44,043][HYDRA] \t#1 : method=4dvarnet task=ose_gf/leaderboard\n",
      "[2023-10-09 12:18:52,652][HYDRA] \t#2 : method=convlstm task=ose_gf/leaderboard\n",
      "[2023-10-09 12:18:58,752][HYDRA] \t#3 : method=convlstm_sst task=ose_gf/leaderboard\n",
      "[2023-10-09 12:19:03,596][HYDRA] \t#4 : method=musti task=ose_gf/leaderboard\n",
      "[2023-10-09 12:19:11,127][HYDRA] \t#5 : method=duacs task=ose_gf/leaderboard\n",
      "[2023-10-09 12:19:15,762][HYDRA] \t#6 : method=dymost task=ose_gf/leaderboard\n",
      "[2023-10-09 12:19:20,311][HYDRA] \t#7 : method=miost task=ose_gf/leaderboard\n",
      "|    |   nrmse | lambda_x_alongtrack   | method       | task                  |\n",
      "|---:|--------:|:----------------------|:-------------|:----------------------|\n",
      "|  0 |   0.884 | 121.65 km             | bfn          | DC2021 OSE Gulfstream |\n",
      "|  1 |   0.909 | 97.90 km              | 4dvarnet     | DC2021 OSE Gulfstream |\n",
      "|  2 |   0.894 | 113.41 km             | convlstm     | DC2021 OSE Gulfstream |\n",
      "|  3 |   0.902 | 107.54 km             | convlstm_sst | DC2021 OSE Gulfstream |\n",
      "|  4 |   0.903 | 112.09 km             | musti        | DC2021 OSE Gulfstream |\n",
      "|  5 |   0.882 | 150.91 km             | duacs        | DC2021 OSE Gulfstream |\n",
      "|  6 |   0.898 | 130.60 km             | dymost       | DC2021 OSE Gulfstream |\n",
      "|  7 |   0.896 | 135.33 km             | miost        | DC2021 OSE Gulfstream |\n"
     ]
    }
   ],
   "source": [
    "%run oceanbench/__main__.py -m task=ose_gf/leaderboard"
   ]
  },
  {
   "cell_type": "code",
   "execution_count": null,
   "id": "f34a55de-2708-474f-b7eb-30857f897f48",
   "metadata": {},
   "outputs": [],
   "source": []
  }
 ],
 "metadata": {
  "kernelspec": {
   "display_name": "oceanbench",
   "language": "python",
   "name": "oceanbench"
  },
  "language_info": {
   "codemirror_mode": {
    "name": "ipython",
    "version": 3
   },
   "file_extension": ".py",
   "mimetype": "text/x-python",
   "name": "python",
   "nbconvert_exporter": "python",
   "pygments_lexer": "ipython3",
   "version": "3.10.11"
  },
  "toc-autonumbering": true,
  "toc-showcode": true
 },
 "nbformat": 4,
 "nbformat_minor": 5
}
