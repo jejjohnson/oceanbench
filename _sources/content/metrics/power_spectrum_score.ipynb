{
 "cells": [
  {
   "cell_type": "markdown",
   "id": "040a83a2",
   "metadata": {},
   "source": [
    "# Power Spectrum Score"
   ]
  },
  {
   "cell_type": "markdown",
   "id": "63852cd4",
   "metadata": {},
   "source": [
    "> In the ocean community, we often operator in the Fourier domain. \n",
    "This is useful for assessing the quality of our models and it can also be useful for learning.\n",
    "In this notebook, we showcase how oceanbench has two fundamental transformations that are useful for both cases: isotropic and spacetime Fourier transformations."
   ]
  },
  {
   "cell_type": "code",
   "execution_count": null,
   "id": "27b5081e",
   "metadata": {},
   "outputs": [],
   "source": [
    "import autoroot\n",
    "import typing as tp\n",
    "from dataclasses import dataclass\n",
    "import numpy as np\n",
    "import pandas as pd\n",
    "import xarray as xr\n",
    "import einops\n",
    "from metpy.units import units\n",
    "import pint_xarray\n",
    "import xarray_dataclasses as xrdataclass\n",
    "from oceanbench._src.datasets.base import XRDAPatcher\n",
    "from oceanbench._src.geoprocessing.spatial import transform_360_to_180\n",
    "import matplotlib.pyplot as plt\n",
    "import matplotlib.colors as colors\n",
    "import matplotlib.ticker as ticker\n",
    "import seaborn as sns\n",
    "\n",
    "sns.reset_defaults()\n",
    "sns.set_context(context=\"talk\", font_scale=0.7)\n",
    "\n",
    "%load_ext autoreload\n",
    "%autoreload 2"
   ]
  },
  {
   "cell_type": "code",
   "execution_count": null,
   "id": "5d0398c6",
   "metadata": {},
   "outputs": [],
   "source": [
    "!ls /gpfswork/rech/yrf/commun/data_challenges/dc20a_osse/staging/results/4DVarNet"
   ]
  },
  {
   "cell_type": "code",
   "execution_count": null,
   "id": "b5e2a657",
   "metadata": {},
   "outputs": [],
   "source": [
    "# file = \"/gpfswork/rech/yrf/commun/data_challenges/dc20a_osse/staging/results/4DVarNet/2020a_SSH_mapping_NATL60_4DVarNet_v2022_nadirswot_GF_GF.nc\"\n",
    "# file = \"/gpfswork/rech/yrf/commun/data_challenges/dc20a_osse/staging/results/MIOST/2020a_SSH_mapping_NATL60_MIOST_swot_en_j1_tpn_g2.nc\"\n",
    "# file = \"/gpfswork/rech/yrf/commun/data_challenges/dc20a_osse/staging/results/DUACS/ssh_DUACS_swot_4nadir.nc\"\n",
    "file = \"/gpfswork/rech/yrf/commun/data_challenges/dc20a_osse/staging/results/BFNQG/2020a_SSH_mapping_NATL60_BFN_Steady_State_QG1L_swot_en_j1_tpn_g2.nc\"\n",
    "file_ref = \"/gpfswork/rech/yrf/commun/data_challenges/dc20a_osse/staging/natl60/NATL60-CJM165_GULFSTREAM_ssh_y2013.1y.nc\"\n",
    "!ls $file"
   ]
  },
  {
   "cell_type": "code",
   "execution_count": null,
   "id": "df81c0fa",
   "metadata": {},
   "outputs": [],
   "source": [
    "# # Domain for analysis: Gulfstream\n",
    "# time_min = numpy.datetime64('2012-10-22')                # domain min time\n",
    "# time_max = numpy.datetime64('2012-12-03')                # domain max time\n",
    "# lon_min = -64.975                                        # domain min lon\n",
    "# lon_max = -55.007                                        # domain max lon\n",
    "# lat_min = 33.025                                         # domain min lat\n",
    "# lat_max = 42.9917                                        # domain max lat"
   ]
  },
  {
   "cell_type": "code",
   "execution_count": null,
   "id": "1d27075b",
   "metadata": {},
   "outputs": [],
   "source": [
    "def open_ssh_results(file, variable=\"ssh_mod\"):\n",
    "    \n",
    "    da = xr.open_dataset(file, decode_times=True)\n",
    "    \n",
    "    da = da.sortby(\"time\")\n",
    "    \n",
    "    da = da.rename({variable: \"ssh\"})\n",
    "    \n",
    "    da = da.sel(\n",
    "        time=slice(\"2012-10-22\", \"2012-12-03\"),\n",
    "        lon=slice(-64.975, -55.007),\n",
    "        lat=slice(33.025, 42.9917),\n",
    "        drop=True\n",
    "    )\n",
    "    \n",
    "    da = da.resample(time=\"1D\").mean()\n",
    "    \n",
    "    return da\n",
    "\n",
    "def open_ssh_reference(file, variable=\"gssh\"):\n",
    "    da = xr.open_dataset(file, decode_times=False)\n",
    "    da[\"time\"] = pd.to_datetime(da.time)\n",
    "    da = da.sortby(\"time\")\n",
    "    da = da.sel(\n",
    "        time=slice(\"2012-10-22\", \"2012-12-03\"),\n",
    "        lon=slice(-64.975, -55.007),\n",
    "        lat=slice(33.025, 42.9917),\n",
    "        drop=True\n",
    "    )\n",
    "    # da = da.rename({variable: \"ssh\"})\n",
    "    return da"
   ]
  },
  {
   "cell_type": "code",
   "execution_count": null,
   "id": "2d3e6433",
   "metadata": {},
   "outputs": [],
   "source": []
  },
  {
   "cell_type": "code",
   "execution_count": null,
   "id": "d24066f1",
   "metadata": {},
   "outputs": [],
   "source": [
    "def correct_names(da):\n",
    "    \n",
    "    da[\"ssh\"].attrs[\"long_name\"] = \"Sea Surface Height\"\n",
    "    da[\"ssh\"].attrs[\"standard_name\"] = \"sea_surface_height\"\n",
    "\n",
    "    da[\"lat\"] = da.lat.pint.quantify(\"degrees_north\")\n",
    "    da[\"lat\"].attrs[\"long_name\"] = \"Latitude\"\n",
    "    da[\"lat\"].attrs[\"standard_name\"] = \"latitude\"\n",
    "\n",
    "    da[\"lon\"].attrs[\"long_name\"] = \"Longitude\"\n",
    "    da[\"lon\"].attrs[\"standard_name\"] = \"longitude\"\n",
    "\n",
    "    da[\"lon\"] = transform_360_to_180(da.lon)\n",
    "    \n",
    "\n",
    "    \n",
    "    return da\n"
   ]
  },
  {
   "cell_type": "code",
   "execution_count": null,
   "id": "8ff01789",
   "metadata": {},
   "outputs": [],
   "source": [
    "da_ref = open_ssh_reference(file_ref)\n",
    "da = open_ssh_results(file, \"gssh\")\n",
    "\n",
    "da_ref = correct_names(da_ref)\n",
    "da = correct_names(da)"
   ]
  },
  {
   "cell_type": "markdown",
   "id": "7a8909c5",
   "metadata": {},
   "source": [
    "## Regridding"
   ]
  },
  {
   "cell_type": "code",
   "execution_count": null,
   "id": "30c29051",
   "metadata": {},
   "outputs": [],
   "source": [
    "from oceanbench._src.geoprocessing.gridding import grid_to_regular_grid"
   ]
  },
  {
   "cell_type": "code",
   "execution_count": null,
   "id": "d97fbb06",
   "metadata": {},
   "outputs": [],
   "source": [
    "da = grid_to_regular_grid(\n",
    "    src_grid_ds=da.pint.dequantify(),\n",
    "    tgt_grid_ds=da_ref.pint.dequantify(), keep_attrs=True\n",
    ")\n",
    "da"
   ]
  },
  {
   "cell_type": "markdown",
   "id": "a94b0d08",
   "metadata": {},
   "source": [
    "### Interpolate NANs"
   ]
  },
  {
   "cell_type": "code",
   "execution_count": null,
   "id": "44c57ada",
   "metadata": {},
   "outputs": [],
   "source": [
    "from oceanbench._src.geoprocessing.interpolate import fillnans"
   ]
  },
  {
   "cell_type": "code",
   "execution_count": null,
   "id": "7b16a7be",
   "metadata": {},
   "outputs": [],
   "source": [
    "da = fillnans(da, dims=[\"lat\", \"lon\"], method=\"slinear\", fill_value=\"extrapolate\")\n",
    "da_ref = fillnans(da_ref, dims=[\"lat\", \"lon\"], method=\"slinear\", fill_value=\"extrapolate\")"
   ]
  },
  {
   "cell_type": "markdown",
   "id": "5630c8f7",
   "metadata": {},
   "source": [
    "### Units"
   ]
  },
  {
   "cell_type": "code",
   "execution_count": null,
   "id": "891b67a1",
   "metadata": {},
   "outputs": [],
   "source": [
    "def add_units(da):\n",
    "    da = da.pint.quantify(\n",
    "        {\"ssh\": \"meter\", \n",
    "         \"lon\": \"degrees_east\", \n",
    "         \"lat\": \"degrees_north\",\n",
    "         \"time\": \"nanoseconds\"\n",
    "        }\n",
    "    )\n",
    "    return da"
   ]
  },
  {
   "cell_type": "code",
   "execution_count": null,
   "id": "b2fcdd74",
   "metadata": {},
   "outputs": [],
   "source": [
    "da = add_units(da)\n",
    "da_ref = add_units(da_ref)"
   ]
  },
  {
   "cell_type": "markdown",
   "id": "aa101f47",
   "metadata": {},
   "source": [
    "## Rescaling"
   ]
  },
  {
   "cell_type": "markdown",
   "id": "8d2f9012",
   "metadata": {},
   "source": [
    "In a previous notebook, we showed how we can do lat/lon"
   ]
  },
  {
   "cell_type": "markdown",
   "id": "3e6846a1",
   "metadata": {},
   "source": [
    "#### Degrees to Meters\n",
    "\n",
    "It is often more useful to have things in meters instead of degrees. The units are more meaningful and easier to interpret. So we can do a simple degree to meters transformation included in the library."
   ]
  },
  {
   "cell_type": "code",
   "execution_count": null,
   "id": "9f300a5c",
   "metadata": {},
   "outputs": [],
   "source": [
    "from oceanbench._src.geoprocessing.spatial import latlon_deg2m\n",
    "from oceanbench._src.geoprocessing.temporal import time_rescale"
   ]
  },
  {
   "cell_type": "code",
   "execution_count": null,
   "id": "86b2912b",
   "metadata": {},
   "outputs": [],
   "source": [
    "t0 = \"2012-10-22\"\n",
    "freq_dt = 1\n",
    "freq_unit = \"D\"\n",
    "\n",
    "# spatial rescale\n",
    "da = latlon_deg2m(da, mean=True)\n",
    "da_ref = latlon_deg2m(da_ref, mean=True)\n",
    "\n",
    "# temporal rescale\n",
    "da_ref = time_rescale(da_ref, freq_dt=freq_dt, freq_unit=freq_unit, t0=t0)\n",
    "da = time_rescale(da, freq_dt=freq_dt, freq_unit=freq_unit, t0=t0)"
   ]
  },
  {
   "cell_type": "markdown",
   "id": "9893fba2",
   "metadata": {},
   "source": [
    "## Spectral Domain"
   ]
  },
  {
   "cell_type": "code",
   "execution_count": null,
   "id": "009d85c7",
   "metadata": {},
   "outputs": [],
   "source": [
    "def rmse_da(da, da_ref, variable, dim):\n",
    "    return ((da[variable] - da_ref[variable]) ** 2).mean(dim=dim) ** 0.5\n",
    "\n",
    "\n",
    "def nrmse_da(da, da_ref, variable, dim):\n",
    "    rmse = rmse_da(da=da, da_ref=da_ref, variable=variable, dim=dim)\n",
    "    std = (da_ref[variable]**2).mean(dim=dim) ** 0.5 \n",
    "    try:\n",
    "        return 1.0 - (rmse / std)\n",
    "    except:\n",
    "        return 1.0 - (rmse / std)"
   ]
  },
  {
   "cell_type": "code",
   "execution_count": null,
   "id": "acdc428a",
   "metadata": {},
   "outputs": [],
   "source": [
    "print(rmse_da(da=da, da_ref=da_ref, variable=\"ssh\", dim=[\"lat\", \"lon\", \"time\"]).values)"
   ]
  },
  {
   "cell_type": "code",
   "execution_count": null,
   "id": "f4dcdd27",
   "metadata": {},
   "outputs": [],
   "source": [
    "print(nrmse_da(da=da, da_ref=da_ref, variable=\"ssh\", dim=[\"lat\", \"lon\", \"time\"]).values)"
   ]
  },
  {
   "cell_type": "code",
   "execution_count": null,
   "id": "746f4285",
   "metadata": {},
   "outputs": [],
   "source": []
  },
  {
   "cell_type": "code",
   "execution_count": null,
   "id": "e23f32b0",
   "metadata": {},
   "outputs": [],
   "source": [
    "print(nrmse_da(da=da, da_ref=da_ref, variable=\"ssh\", dim=[\"lat\", \"lon\"]).std().values)"
   ]
  },
  {
   "cell_type": "markdown",
   "id": "b2d00afd",
   "metadata": {},
   "source": [
    "Now, we can look at how we can represent the data within the Fourier Domain"
   ]
  },
  {
   "cell_type": "markdown",
   "id": "5e7beb47",
   "metadata": {},
   "source": [
    "### Isotropic Assumption"
   ]
  },
  {
   "cell_type": "code",
   "execution_count": null,
   "id": "d7a64362",
   "metadata": {},
   "outputs": [],
   "source": [
    "from oceanbench._src.metrics import power_spectrum as psdcalc\n",
    "from oceanbench._src.preprocessing.mean import xr_cond_average"
   ]
  },
  {
   "cell_type": "code",
   "execution_count": null,
   "id": "52339bb4",
   "metadata": {},
   "outputs": [],
   "source": [
    "da_psd_ref = psdcalc.psd_isotropic(da_ref, \"ssh\", [\"lon\", \"lat\"])\n",
    "da_psd_ref = xr_cond_average(da_psd_ref, dims=[\"time\"], drop=True)\n",
    "\n",
    "da_psd = psdcalc.psd_isotropic(da, \"ssh\", [\"lon\", \"lat\"])\n",
    "da_psd = xr_cond_average(da_psd, dims=[\"time\"], drop=True)"
   ]
  },
  {
   "cell_type": "markdown",
   "id": "13d6bc75",
   "metadata": {},
   "source": [
    "### Plots"
   ]
  },
  {
   "cell_type": "code",
   "execution_count": null,
   "id": "f21264f9",
   "metadata": {},
   "outputs": [],
   "source": [
    "class PlotPSDIsotropic:\n",
    "        \n",
    "    def init_fig(self, ax=None, figsize=None):\n",
    "        if ax is None:\n",
    "            figsize = (5,4) if figsize is None else figsize\n",
    "            self.fig, self.ax = plt.subplots(figsize=figsize)\n",
    "        else:\n",
    "            self.ax = ax\n",
    "            self.fig = plt.gcf()\n",
    "        \n",
    "    def plot_wavenumber(self, da, freq_scale=1.0, units=None, **kwargs):\n",
    "        \n",
    "        if units is not None:\n",
    "            xlabel = f\"Wavenumber [cycles/{units}]\"\n",
    "        else:\n",
    "            xlabel = f\"Wavenumber\"\n",
    "        \n",
    "        self.ax.plot(da.freq_r * freq_scale, da, **kwargs)\n",
    "\n",
    "        self.ax.set(\n",
    "            yscale=\"log\", xscale=\"log\",\n",
    "            xlabel=xlabel,\n",
    "            ylabel=f\"PSD [{da.name}]\"\n",
    "        )\n",
    "\n",
    "        self.ax.legend()\n",
    "        self.ax.grid(which=\"both\", alpha=0.5)\n",
    "        \n",
    "    def plot_wavelength(self, da, freq_scale=1.0, units=None, **kwargs):\n",
    "        \n",
    "        if units is not None:\n",
    "            xlabel = f\"Wavelength [{units}]\"\n",
    "        else:\n",
    "            xlabel = f\"Wavelength\"\n",
    "        \n",
    "        self.ax.plot(1/(da.freq_r * freq_scale), da, **kwargs)\n",
    "        \n",
    "        self.ax.set(\n",
    "            yscale=\"log\", xscale=\"log\",\n",
    "            xlabel=xlabel,\n",
    "            ylabel=f\"PSD [{da.name}]\"\n",
    "        )\n",
    "\n",
    "        self.ax.xaxis.set_major_formatter(\"{x:.0f}\")\n",
    "        self.ax.invert_xaxis()\n",
    "        \n",
    "        self.ax.legend()\n",
    "        self.ax.grid(which=\"both\", alpha=0.5)\n",
    "                \n",
    "    def plot_both(self, da, freq_scale=1.0, units=None, **kwargs):\n",
    "        \n",
    "        if units is not None:\n",
    "            xlabel = f\"Wavelength [{units}]\"\n",
    "        else:\n",
    "            xlabel = f\"Wavelength\"\n",
    "        \n",
    "        self.plot_wavenumber(da=da, units=units, freq_scale=freq_scale, **kwargs)\n",
    "        \n",
    "        self.secax = self.ax.secondary_xaxis(\n",
    "            \"top\", functions=(lambda x: 1 / (x + 1e-20), lambda x: 1 / (x + 1e-20))\n",
    "        )\n",
    "        self.secax.xaxis.set_major_formatter(\"{x:.0f}\")\n",
    "        self.secax.set(xlabel=xlabel)"
   ]
  },
  {
   "cell_type": "markdown",
   "id": "d3747feb",
   "metadata": {},
   "source": [
    "#### Wavenumber + Wavelength"
   ]
  },
  {
   "cell_type": "code",
   "execution_count": null,
   "id": "d62ffae1",
   "metadata": {},
   "outputs": [],
   "source": [
    "psd_iso_plot = PlotPSDIsotropic()\n",
    "psd_iso_plot.init_fig()\n",
    "psd_iso_plot.plot_both(\n",
    "    da_psd_ref.ssh,\n",
    "    freq_scale=1e3, \n",
    "    units=\"km\",\n",
    "    label=\"NATL60\",\n",
    "    color=\"black\",\n",
    ")\n",
    "psd_iso_plot.plot_both(\n",
    "    da_psd.ssh,\n",
    "    freq_scale=1e3, \n",
    "    units=\"km\",\n",
    "    label=\"BFN\",\n",
    "    color=\"tab:blue\",\n",
    ")\n",
    "plt.show()"
   ]
  },
  {
   "cell_type": "markdown",
   "id": "2ec08544",
   "metadata": {},
   "source": [
    "### PSD Score"
   ]
  },
  {
   "cell_type": "markdown",
   "id": "a0028b6a",
   "metadata": {},
   "source": [
    "$$\n",
    "\\text{Score}_{PSD} = 1 - \\frac{PSD(u) - PSD(\\hat{u})}{PSD(u)}\n",
    "$$"
   ]
  },
  {
   "cell_type": "code",
   "execution_count": null,
   "id": "3e429308",
   "metadata": {},
   "outputs": [],
   "source": [
    "from oceanbench._src.metrics import power_spectrum as psdcalc\n",
    "from oceanbench._src.metrics.utils import find_intercept_1D, find_intercept_2D"
   ]
  },
  {
   "cell_type": "code",
   "execution_count": null,
   "id": "80195205",
   "metadata": {},
   "outputs": [],
   "source": [
    "da_psd_score_iso = psdcalc.psd_isotropic_score(\n",
    "    da=da, da_ref=da_ref, \n",
    "    variable=\"ssh\", \n",
    "    psd_dims=[\"lat\", \"lon\"],\n",
    "    avg_dims=[\"time\"]\n",
    ")"
   ]
  },
  {
   "cell_type": "code",
   "execution_count": null,
   "id": "f967329b",
   "metadata": {},
   "outputs": [],
   "source": [
    "class PlotPSDScoreIsotropic(PlotPSDIsotropic):\n",
    "    \n",
    "    def _add_score(\n",
    "        self,\n",
    "        da,\n",
    "        freq_scale=1.0, \n",
    "        units=None, \n",
    "        threshhold: float=0.5, \n",
    "        threshhold_color=\"k\",\n",
    "        name=\"\"\n",
    "):\n",
    "        self.ax.set(ylabel=\"PSD Score\", yscale=\"linear\")\n",
    "        self.ax.set_ylim((0,1.0))\n",
    "        self.ax.set_xlim((\n",
    "            np.ma.min(np.ma.masked_invalid(da.freq_r.values * freq_scale)),\n",
    "            np.ma.max(np.ma.masked_invalid(da.freq_r.values * freq_scale)),\n",
    "        ))\n",
    "        \n",
    "        resolved_scale = freq_scale / find_intercept_1D(\n",
    "            x=da.values, y=1./da.freq_r.values, level=threshhold\n",
    "        )        \n",
    "        self.ax.vlines(\n",
    "            x=resolved_scale, \n",
    "            ymin=0, ymax=threshhold, \n",
    "            color=threshhold_color,\n",
    "            linewidth=2, linestyle=\"--\",\n",
    "        )\n",
    "        self.ax.hlines(\n",
    "            y=threshhold,\n",
    "            xmin=np.ma.min(np.ma.masked_invalid(da.freq_r.values * freq_scale)),\n",
    "            xmax=resolved_scale, color=threshhold_color,\n",
    "            linewidth=2, linestyle=\"--\"\n",
    "        )        \n",
    "        label = f\"{name}: {1/resolved_scale:.0f} {units} \"\n",
    "        self.ax.scatter(\n",
    "            resolved_scale, threshhold,\n",
    "            color=threshhold_color, marker=\".\",\n",
    "            linewidth=5, label=label,\n",
    "            zorder=3\n",
    "        )\n",
    "        \n",
    "        \n",
    "    def plot_score(\n",
    "        self, \n",
    "        da, \n",
    "        freq_scale=1.0, \n",
    "        units=None, \n",
    "        threshhold: float=0.5, \n",
    "        threshhold_color=\"k\",\n",
    "        name=\"\",\n",
    "        **kwargs\n",
    "    ):\n",
    "        \n",
    "        self.plot_both(da=da, freq_scale=freq_scale, units=units, **kwargs)\n",
    "        self._add_score(\n",
    "            da=da, \n",
    "            freq_scale=freq_scale,\n",
    "            units=units,\n",
    "            threshhold=threshhold, \n",
    "            threshhold_color=threshhold_color,\n",
    "            name=name\n",
    "        )"
   ]
  },
  {
   "cell_type": "code",
   "execution_count": null,
   "id": "a87efadd",
   "metadata": {},
   "outputs": [],
   "source": [
    "psd_iso_plot = PlotPSDScoreIsotropic()\n",
    "psd_iso_plot.init_fig()\n",
    "psd_iso_plot.plot_score(\n",
    "    da_psd_score_iso.ssh,\n",
    "    freq_scale=1e3, \n",
    "    units=\"km\",\n",
    "    name=\"4DVarNet\",\n",
    "    color=\"black\",\n",
    "    threshhold=0.50,\n",
    "    threshhold_color=\"tab:blue\"\n",
    "    \n",
    ")\n",
    "plt.legend()"
   ]
  },
  {
   "cell_type": "code",
   "execution_count": null,
   "id": "0b4a38e0",
   "metadata": {},
   "outputs": [],
   "source": [
    "space_rs = find_intercept_1D(\n",
    "    y=1./da_psd_score_iso.ssh.freq_r.values,\n",
    "    x=da_psd_score_iso.ssh.values,\n",
    "    level=0.5\n",
    ")"
   ]
  },
  {
   "cell_type": "code",
   "execution_count": null,
   "id": "18e9305b",
   "metadata": {},
   "outputs": [],
   "source": [
    "print(f\"(Isotropic) Spatial Resolved Scale: {space_rs/1e3:.2f} [km]\")\n",
    "print(f\"(Isotropic) Spatial Resolved Scale: {space_rs/1e3/111:.2f} [degrees]\")"
   ]
  },
  {
   "cell_type": "markdown",
   "id": "0c6c86dd",
   "metadata": {},
   "source": [
    "### Spatial Temporal"
   ]
  },
  {
   "cell_type": "markdown",
   "id": "65199d76",
   "metadata": {},
   "source": [
    "#### Time vs Longitude"
   ]
  },
  {
   "cell_type": "code",
   "execution_count": null,
   "id": "94dbd5db",
   "metadata": {},
   "outputs": [],
   "source": [
    "# frequency dims\n",
    "da_ref_psd_st = psdcalc.psd_spacetime(da_ref, \"ssh\", [\"time\", \"lon\"])\n",
    "da_psd_st = psdcalc.psd_spacetime(da, \"ssh\", [\"time\", \"lon\"])\n",
    "\n",
    "\n",
    "# average other dims\n",
    "da_ref_psd_st = xr_cond_average(da_ref_psd_st, dims=[\"lat\"], drop=True)\n",
    "da_psd_st = xr_cond_average(da_psd_st, dims=[\"lat\"], drop=True)"
   ]
  },
  {
   "cell_type": "code",
   "execution_count": null,
   "id": "1e0e1787",
   "metadata": {},
   "outputs": [],
   "source": [
    "da_psd_st"
   ]
  },
  {
   "cell_type": "code",
   "execution_count": null,
   "id": "9c2665fb",
   "metadata": {},
   "outputs": [],
   "source": [
    "import matplotlib.pyplot as plt\n",
    "import matplotlib.colors as colors\n",
    "import matplotlib.ticker as ticker\n",
    "\n",
    "\n",
    "class PlotPSDSpaceTime:\n",
    "    def init_fig(self, ax=None, figsize=None):\n",
    "        if ax is None:\n",
    "            figsize = (5,4) if figsize is None else figsize\n",
    "            self.fig, self.ax = plt.subplots(figsize=figsize)\n",
    "        else:\n",
    "            self.ax = ax\n",
    "            self.fig = plt.gcf()\n",
    "        \n",
    "    def plot_wavenumber(\n",
    "        self, \n",
    "        da, \n",
    "        space_scale: float=1.0,\n",
    "        space_units: str=None,\n",
    "        time_units: str=None,\n",
    "        psd_units: float=None,\n",
    "        **kwargs):\n",
    "        \n",
    "        if space_units is not None:\n",
    "            xlabel = f\"Wavenumber [cycles/{space_units}]\"\n",
    "        else:\n",
    "            xlabel = f\"Wavenumber\"\n",
    "        if time_units is not None:\n",
    "            ylabel = f\"Frequency [cycles/{time_units}]\"\n",
    "        else:\n",
    "            ylabel = f\"Frequency\"\n",
    "\n",
    "        if psd_units is None:\n",
    "            cbar_label = \"PSD\"\n",
    "        else:\n",
    "            cbar_label = f\"PSD [{psd_units}]\"\n",
    "        \n",
    "        locator = ticker.LogLocator()\n",
    "        norm = colors.LogNorm()\n",
    "        \n",
    "        pts = self.ax.contourf(\n",
    "            1/(da.freq_lon*space_scale),\n",
    "            1/da.freq_time, \n",
    "            da.transpose(\"freq_time\", \"freq_lon\"), \n",
    "            norm=norm, \n",
    "            locator=locator, \n",
    "            cmap=kwargs.pop(\"cmap\", \"RdYlGn\"), \n",
    "            extend=kwargs.pop(\"extend\", \"both\"),\n",
    "            **kwargs\n",
    "        )\n",
    "\n",
    "        self.ax.set(\n",
    "            yscale=\"log\",\n",
    "            xscale=\"log\",\n",
    "            xlabel=xlabel,\n",
    "            ylabel=ylabel,\n",
    "        )\n",
    "        # colorbar\n",
    "        fmt = ticker.LogFormatterMathtext(base=10)\n",
    "        cbar = plt.colorbar(\n",
    "            pts,\n",
    "            ax=self.ax,\n",
    "            pad=0.02,\n",
    "            format=fmt,\n",
    "        )\n",
    "        cbar.ax.set_ylabel(cbar_label)\n",
    "        self.ax.invert_xaxis()\n",
    "        self.ax.invert_yaxis()\n",
    "        self.ax.grid(which=\"both\", linestyle=\"--\", linewidth=1, color=\"black\", alpha=0.2)\n",
    "\n",
    "\n",
    "    def plot_wavelength(        \n",
    "        self, \n",
    "        da, \n",
    "        space_scale: float=1.0,\n",
    "        space_units: str=None,\n",
    "        time_units: str=None,\n",
    "        psd_units: float=None,\n",
    "        **kwargs\n",
    "    ):\n",
    "    \n",
    "        if space_units is not None:\n",
    "            xlabel = f\"Wavelength [{space_units}]\"\n",
    "        else:\n",
    "            xlabel = f\"Wavelength\"\n",
    "            \n",
    "        if time_units is not None:\n",
    "            ylabel = f\"Period [{time_units}]\"\n",
    "        else:\n",
    "            ylabel = f\"Period\"\n",
    "            \n",
    "        if psd_units is None:\n",
    "            cbar_label = \"PSD\"\n",
    "        else:\n",
    "            cbar_label = f\"PSD [{psd_units}]\"\n",
    "            \n",
    "        self.plot_wavenumber(\n",
    "            da=da, space_scale=space_scale, \n",
    "            space_units=space_units, time_units=time_units,\n",
    "            psd_units=psd_units\n",
    "        )\n",
    "\n",
    "        self.ax.set(\n",
    "            xlabel=xlabel, \n",
    "            ylabel=ylabel\n",
    "        )\n",
    "        self.ax.xaxis.set_major_formatter(\"{x:.0f}\")\n",
    "        self.ax.yaxis.set_major_formatter(\"{x:.0f}\")"
   ]
  },
  {
   "cell_type": "markdown",
   "id": "27c19b27",
   "metadata": {},
   "source": [
    "#### Wavenumber"
   ]
  },
  {
   "cell_type": "code",
   "execution_count": null,
   "id": "a9081e70",
   "metadata": {},
   "outputs": [],
   "source": [
    "fig, ax = plt.subplots(ncols=2, figsize=(12,5))\n",
    "\n",
    "psd_st_plot = PlotPSDSpaceTime()\n",
    "psd_st_plot.init_fig(ax=ax[0])\n",
    "psd_st_plot.plot_wavenumber(\n",
    "    da_ref_psd_st.ssh,\n",
    "    space_scale=1e3, \n",
    "    space_units=\"km\", \n",
    "    time_units=\"days\",\n",
    "    psd_units=\"SSH\"\n",
    ")\n",
    "\n",
    "psd_st_plot = PlotPSDSpaceTime()\n",
    "psd_st_plot.init_fig(ax=ax[1])\n",
    "psd_st_plot.plot_wavenumber(\n",
    "    da_psd_st.ssh,\n",
    "    space_scale=1e3, \n",
    "    space_units=\"km\", \n",
    "    time_units=\"days\",\n",
    "    psd_units=\"SSH\"\n",
    ")\n",
    "\n",
    "plt.tight_layout()\n",
    "plt.show()"
   ]
  },
  {
   "cell_type": "markdown",
   "id": "f573a318",
   "metadata": {},
   "source": [
    "#### Wavelength"
   ]
  },
  {
   "cell_type": "code",
   "execution_count": null,
   "id": "281a1604",
   "metadata": {},
   "outputs": [],
   "source": [
    "fig, ax = plt.subplots(ncols=2, figsize=(12,5))\n",
    "\n",
    "psd_st_plot = PlotPSDSpaceTime()\n",
    "psd_st_plot.init_fig(ax=ax[0])\n",
    "psd_st_plot.plot_wavelength(\n",
    "    da_ref_psd_st.ssh,\n",
    "    space_scale=1e3, \n",
    "    space_units=\"km\", \n",
    "    time_units=\"days\",\n",
    "    psd_units=\"SSH\"\n",
    ")\n",
    "\n",
    "psd_st_plot = PlotPSDSpaceTime()\n",
    "psd_st_plot.init_fig(ax=ax[1])\n",
    "psd_st_plot.plot_wavelength(\n",
    "    da_psd_st.ssh,\n",
    "    space_scale=1e3, \n",
    "    space_units=\"km\", \n",
    "    time_units=\"days\",\n",
    "    psd_units=\"SSH\"\n",
    ")\n",
    "\n",
    "plt.tight_layout()\n",
    "plt.show()"
   ]
  },
  {
   "cell_type": "markdown",
   "id": "bf4fb659",
   "metadata": {},
   "source": [
    "### Space-Time PSD Score"
   ]
  },
  {
   "cell_type": "code",
   "execution_count": null,
   "id": "d90186d1",
   "metadata": {},
   "outputs": [],
   "source": [
    "from oceanbench._src.metrics.utils import find_intercept_1D, find_intercept_2D"
   ]
  },
  {
   "cell_type": "code",
   "execution_count": null,
   "id": "01386bd0",
   "metadata": {},
   "outputs": [],
   "source": [
    "da_psd_score_st = psdcalc.psd_spacetime_score(\n",
    "    da=da, da_ref=da_ref, \n",
    "    variable=\"ssh\", \n",
    "    psd_dims=[\"time\", \"lon\"],\n",
    "    avg_dims=[\"lat\"]\n",
    ")\n",
    "da_psd_score_st"
   ]
  },
  {
   "cell_type": "code",
   "execution_count": null,
   "id": "fe26ed99",
   "metadata": {},
   "outputs": [],
   "source": []
  },
  {
   "cell_type": "code",
   "execution_count": null,
   "id": "5233422d",
   "metadata": {},
   "outputs": [],
   "source": [
    "import matplotlib.pyplot as plt\n",
    "import matplotlib.colors as colors\n",
    "import matplotlib.ticker as ticker\n",
    "\n",
    "\n",
    "class PlotPSDSpaceTimeScore:\n",
    "    def init_fig(self, ax=None, figsize=None):\n",
    "        if ax is None:\n",
    "            figsize = (5,4) if figsize is None else figsize\n",
    "            self.fig, self.ax = plt.subplots(figsize=figsize)\n",
    "        else:\n",
    "            self.ax = ax\n",
    "            self.fig = plt.gcf()\n",
    "        \n",
    "    def plot_wavenumber(\n",
    "        self, \n",
    "        da, \n",
    "        space_scale: float=1.0,\n",
    "        space_units: str=None,\n",
    "        time_units: str=None,\n",
    "        psd_units: float=None,\n",
    "        threshhold: float=0.5,\n",
    "        **kwargs):\n",
    "        \n",
    "        if space_units is not None:\n",
    "            xlabel = f\"Wavenumber [cycles/{space_units}]\"\n",
    "        else:\n",
    "            xlabel = f\"Wavenumber\"\n",
    "        if time_units is not None:\n",
    "            ylabel = f\"Frequency [cycles/{time_units}]\"\n",
    "        else:\n",
    "            ylabel = f\"Frequency\"\n",
    "\n",
    "        if psd_units is None:\n",
    "            cbar_label = \"PSD Score\"\n",
    "        else:\n",
    "            cbar_label = f\"PSD Score [{psd_units}]\"\n",
    "        \n",
    "        \n",
    "        pts = self.ax.contourf(\n",
    "            1/(da.freq_lon*space_scale),\n",
    "            1/da.freq_time, \n",
    "            da.transpose(\"freq_time\", \"freq_lon\"), \n",
    "            cmap=kwargs.pop(\"cmap\", \"RdBu\"), \n",
    "            extend=kwargs.pop(\"extend\", \"both\"),\n",
    "            levels=np.arange(0, 1.1, 0.1),\n",
    "            **kwargs\n",
    "        )\n",
    "\n",
    "        self.ax.set(\n",
    "            yscale=\"log\",\n",
    "            xscale=\"log\",\n",
    "            xlabel=xlabel,\n",
    "            ylabel=ylabel,\n",
    "        )\n",
    "        # colorbar\n",
    "        self.cbar = plt.colorbar(\n",
    "            pts,\n",
    "            ax=self.ax,\n",
    "            pad=0.02,\n",
    "        )\n",
    "        self.cbar.ax.set_ylabel(cbar_label)\n",
    "\n",
    "        self.ax.grid(which=\"both\", linestyle=\"--\", linewidth=1, color=\"black\", alpha=0.2)\n",
    "        \n",
    "        pts_middle = self.ax.contour(\n",
    "            1/(da.freq_lon * space_scale),\n",
    "            1/da.freq_time,\n",
    "            da.transpose(\"freq_time\", \"freq_lon\"),\n",
    "            levels=[threshhold],\n",
    "            linewidths=2,\n",
    "            colors=\"k\",\n",
    "        )\n",
    "        \n",
    "        self.cbar.add_lines(pts_middle)\n",
    "        \n",
    "        self.ax.invert_xaxis()\n",
    "        self.ax.invert_yaxis()\n",
    "\n",
    "\n",
    "    def plot_wavelength(        \n",
    "        self, \n",
    "        da, \n",
    "        space_scale: float=1.0,\n",
    "        space_units: str=None,\n",
    "        time_units: str=None,\n",
    "        psd_units: float=None,\n",
    "        threshhold: float=0.5,\n",
    "        **kwargs\n",
    "    ):\n",
    "    \n",
    "        if space_units is not None:\n",
    "            xlabel = f\"Wavelength [{space_units}]\"\n",
    "        else:\n",
    "            xlabel = f\"Wavelength\"\n",
    "            \n",
    "        if time_units is not None:\n",
    "            ylabel = f\"Period Score [{time_units}]\"\n",
    "        else:\n",
    "            ylabel = f\"Period Score\"\n",
    "            \n",
    "        if psd_units is None:\n",
    "            cbar_label = \"PSD\"\n",
    "        else:\n",
    "            cbar_label = f\"PSD [{psd_units}]\"\n",
    "\n",
    "        self.plot_wavenumber(\n",
    "            da=da, space_scale=space_scale, \n",
    "            space_units=space_units, time_units=time_units,\n",
    "            psd_units=psd_units, threshhold=threshhold\n",
    "        )\n",
    "\n",
    "        self.ax.set(\n",
    "            xlabel=xlabel, \n",
    "            ylabel=ylabel\n",
    "        )\n",
    "        self.ax.xaxis.set_major_formatter(\"{x:.0f}\")\n",
    "        self.ax.yaxis.set_major_formatter(\"{x:.0f}\")"
   ]
  },
  {
   "cell_type": "code",
   "execution_count": null,
   "id": "02755eca",
   "metadata": {},
   "outputs": [],
   "source": [
    "psd_st_plot = PlotPSDSpaceTimeScore()\n",
    "psd_st_plot.init_fig()\n",
    "psd_st_plot.plot_wavelength(\n",
    "    da_psd_score_st.ssh,\n",
    "    space_scale=1e3, \n",
    "    space_units=\"km\", \n",
    "    time_units=\"days\",\n",
    "    psd_units=\"SSH\",\n",
    "    threshhold=0.5,\n",
    ")\n",
    "\n",
    "\n",
    "plt.tight_layout()\n",
    "plt.show()"
   ]
  },
  {
   "cell_type": "code",
   "execution_count": null,
   "id": "aa3fbecd",
   "metadata": {},
   "outputs": [],
   "source": [
    "lon_rs, time_rs = find_intercept_2D(\n",
    "        x=1./da_psd_score_st.ssh.freq_lon.values,\n",
    "        y=1./da_psd_score_st.ssh.freq_time.values, \n",
    "        z=da_psd_score_st.ssh.values,\n",
    "        levels=0.5\n",
    "    )"
   ]
  },
  {
   "cell_type": "code",
   "execution_count": null,
   "id": "19d8144e",
   "metadata": {},
   "outputs": [],
   "source": [
    "print(f\"Spatial Resolved Scale: {lon_rs/1e3:.2f} [km]\")\n",
    "print(f\"Spatial Resolved Scale: {lon_rs/1e3/111:.2f} [degrees]\")\n",
    "print(f\"Time Resolved Scale: {time_rs:.2f} [days]\")"
   ]
  },
  {
   "cell_type": "code",
   "execution_count": null,
   "id": "644d1164",
   "metadata": {},
   "outputs": [],
   "source": []
  }
 ],
 "metadata": {
  "jupytext": {
   "text_representation": {
    "extension": ".md",
    "format_name": "myst",
    "format_version": 0.13,
    "jupytext_version": "1.14.5"
   }
  },
  "kernelspec": {
   "display_name": "Python [conda env:miniconda3-jejeqx]",
   "language": "python",
   "name": "conda-env-miniconda3-jejeqx-py"
  },
  "source_map": [
   12,
   16,
   22,
   47,
   51,
   60,
   70,
   104,
   108,
   129,
   135,
   139,
   143,
   149,
   153,
   157,
   160,
   164,
   176,
   179,
   183,
   187,
   193,
   198,
   210,
   214,
   228,
   232,
   236,
   240,
   242,
   246,
   250,
   255,
   261,
   265,
   329,
   333,
   351,
   355,
   361,
   366,
   375,
   440,
   456,
   464,
   467,
   471,
   475,
   486,
   490,
   599,
   603,
   628,
   632,
   657,
   661,
   665,
   675,
   679,
   800,
   818,
   827,
   833
  ]
 },
 "nbformat": 4,
 "nbformat_minor": 5
}