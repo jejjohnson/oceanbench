{
 "cells": [
  {
   "cell_type": "markdown",
   "id": "550925a1",
   "metadata": {
    "user_expressions": []
   },
   "source": [
    "# XArrayDataset"
   ]
  },
  {
   "cell_type": "code",
   "execution_count": null,
   "id": "7a2f0156",
   "metadata": {},
   "outputs": [],
   "source": [
    "import autoroot\n",
    "import typing as tp\n",
    "from dataclasses import dataclass\n",
    "import numpy as np\n",
    "import einops\n",
    "import xarray_dataclasses as xrdataclass\n",
    "from oceanbench._src.datasets.base import XRDAPatcher\n",
    "\n",
    "%load_ext autoreload\n",
    "%autoreload 2"
   ]
  },
  {
   "cell_type": "markdown",
   "id": "5ef127d2",
   "metadata": {},
   "source": [
    "This tutorial walks through some of the nice features of the custom `XRDAPatcher` class.\n",
    "This is a custom class that slices and dices through an `xr.DataArray` where a user can specify explicitly the patch dimensions and the strides.\n",
    "We preallocated the *slices* and then we can arbitrarily call the slices at will.\n",
    "This is very similar to the *torch.utils.data* object except we are only working with `xr.DataArray`'s directly.\n",
    "\n",
    "\n",
    "There have been other previous attempts at this, e.g. `xBatcher`.\n",
    "However, we found the API very cumbersome and non-intuitive.\n",
    "This is our attempt to design an API that we are comfortable with and that we find easy to use.\n",
    "\n",
    "Below, we have outlined a few use-cases that users may be interested in. \n",
    "These use cases are:\n",
    "\n",
    "* Chunking a 1-Dimensional Time Series\n",
    "* Patch-ify a 2D Grid\n",
    "* Cube-ify a 3D Volume\n",
    "* Cube-ify a 2D+T Spatio-Temporal Field\n",
    "* Reconstructing Multiple Variables\n",
    "* Choosing Specific Dimensions for Reconstructions\n",
    "\n",
    "We will walk through each of these and highlight how this can be achieved with the custom `XRDAPatcher` class."
   ]
  },
  {
   "cell_type": "markdown",
   "id": "f03955e4",
   "metadata": {},
   "source": [
    "## Case I: Chunking a 1D TS"
   ]
  },
  {
   "cell_type": "code",
   "execution_count": null,
   "id": "1e38394b",
   "metadata": {},
   "outputs": [],
   "source": [
    "TIME = tp.Literal[\"time\"]\n",
    "\n",
    "@dataclass\n",
    "class TimeAxis:\n",
    "    data: xrdataclass.Data[TIME, tp.Literal[\"datetime64[ns]\"]]\n",
    "    name: xrdataclass.Name[str] = \"time\"\n",
    "    long_name: xrdataclass.Attr[str] = \"Date\"\n",
    "\n",
    "@dataclass\n",
    "class Variable1D:\n",
    "    data: xrdataclass.Data[tuple[TIME], np.float32]\n",
    "    time: xrdataclass.Coordof[TimeAxis] = 0\n",
    "    name: xrdataclass.Attr[str] = \"var\""
   ]
  },
  {
   "cell_type": "code",
   "execution_count": null,
   "id": "638b347e",
   "metadata": {},
   "outputs": [],
   "source": [
    "t = np.arange(1, 360+1, 1)\n",
    "rng = np.random.RandomState(seed=123)\n",
    "ts = np.sin(t)\n",
    "\n",
    "ts = Variable1D(data=ts, time=t, name=\"var\")\n",
    "\n",
    "da = xrdataclass.asdataarray(ts)\n",
    "\n",
    "da"
   ]
  },
  {
   "cell_type": "code",
   "execution_count": null,
   "id": "766060f9",
   "metadata": {},
   "outputs": [],
   "source": [
    "# da.plot()"
   ]
  },
  {
   "cell_type": "markdown",
   "id": "50accbf7",
   "metadata": {},
   "source": [
    "In this first example, we are going to do a non-overlapping style.\n",
    "We will take a 30 day window with a 30 day stride.\n",
    "This will give us exactly 12 patches (like 12 months)."
   ]
  },
  {
   "cell_type": "code",
   "execution_count": null,
   "id": "7b77d41e",
   "metadata": {},
   "outputs": [],
   "source": [
    "patches = {\"time\": 30}\n",
    "strides = {\"time\": 30}\n",
    "domain_limits = None#{\"lat\": slice(-10, 10)}\n",
    "check_full_scan = True\n",
    "\n",
    "xrda_batches = XRDAPatcher(\n",
    "    da=da,\n",
    "    patches=patches,\n",
    "    strides=strides,\n",
    "    check_full_scan=check_full_scan\n",
    ")\n",
    "\n",
    "print(xrda_batches)\n",
    "print(f\"Dataset(size): {len(xrda_batches)}\")"
   ]
  },
  {
   "cell_type": "markdown",
   "id": "2db52af0",
   "metadata": {},
   "source": [
    "In this example, we will incorporate overlapping windows.\n",
    "We will do a 30 day window but we will have a 15 day stride.\n",
    "So, we have a 15 day overlap when creating the patches.\n",
    "We can do the mental calculation already because it's quite simple:\n",
    "\n",
    "$$\n",
    "\\text{Patches} = \\frac{360 \\text{ days total } - 30 \\text{ day patches }}{15 \\text{ day stride }} + 1\n",
    "$$\n",
    "\n",
    "If this is nicely divisible, we wont have any problems. \n",
    "However, often times it's not so we might have to use the `floor` operator to ensure we get integers\n",
    "Our method will give a warning (optional) which lets the user know there is an issue."
   ]
  },
  {
   "cell_type": "code",
   "execution_count": null,
   "id": "26d91aa1",
   "metadata": {},
   "outputs": [],
   "source": [
    "patches = {\"time\": 30}\n",
    "strides = {\"time\": 15}\n",
    "domain_limits = None#{\"lat\": slice(-10, 10)}\n",
    "check_full_scan = True\n",
    "\n",
    "xrda_batches = XRDAPatcher(\n",
    "    da=da,\n",
    "    patches=patches,\n",
    "    strides=strides,\n",
    "    check_full_scan=check_full_scan\n",
    ")\n",
    "\n",
    "print(xrda_batches)\n",
    "print(f\"Dataset(size): {len(xrda_batches)}\")"
   ]
  },
  {
   "cell_type": "markdown",
   "id": "5ca4d7c6",
   "metadata": {},
   "source": [
    "## Case II: Patchify a 2D Grid"
   ]
  },
  {
   "cell_type": "code",
   "execution_count": null,
   "id": "7c1e2484",
   "metadata": {},
   "outputs": [],
   "source": [
    "TIME = tp.Literal[\"time\"]\n",
    "X = tp.Literal[\"x\"]\n",
    "Y = tp.Literal[\"y\"]\n",
    "\n",
    "@dataclass\n",
    "class TimeAxis:\n",
    "    data: xrdataclass.Data[TIME, tp.Literal[\"datetime64[ns]\"]]\n",
    "    name: xrdataclass.Name[str] = \"time\"\n",
    "    long_name: xrdataclass.Attr[str] = \"Date\"\n",
    "\n",
    "@dataclass\n",
    "class XAxis:\n",
    "    data: xrdataclass.Data[X, np.float32]\n",
    "    name: xrdataclass.Name[str] = \"x\"\n",
    "\n",
    "@dataclass\n",
    "class YAxis:\n",
    "    data: xrdataclass.Data[Y, np.float32]\n",
    "    name: xrdataclass.Name[str] = \"y\"\n",
    "\n",
    "@dataclass\n",
    "class Variable2D:\n",
    "    data: xrdataclass.Data[tuple[X, Y], np.float32]\n",
    "    x: xrdataclass.Coordof[XAxis] = 0\n",
    "    y: xrdataclass.Coordof[YAxis] = 0\n",
    "    name: xrdataclass.Attr[str] = \"var\""
   ]
  },
  {
   "cell_type": "code",
   "execution_count": null,
   "id": "c088e84a",
   "metadata": {},
   "outputs": [],
   "source": [
    "x = np.linspace(-1, 1, 128)\n",
    "y = np.linspace(-2, 2, 128)\n",
    "rng = np.random.RandomState(seed=123)\n",
    "\n",
    "data = rng.randn(x.shape[0], y.shape[0])\n",
    "\n",
    "grid = Variable2D(data=data, x=x, y=y, name=\"var\")\n",
    "\n",
    "da = xrdataclass.asdataarray(grid)\n",
    "\n",
    "\n",
    "da"
   ]
  },
  {
   "cell_type": "code",
   "execution_count": null,
   "id": "d1015736",
   "metadata": {},
   "outputs": [],
   "source": [
    "# da.T.plot.imshow()"
   ]
  },
  {
   "cell_type": "markdown",
   "id": "389f0ccc",
   "metadata": {},
   "source": [
    "We will have a `[20,20]` patch with no overlap, `[20,20]`"
   ]
  },
  {
   "cell_type": "code",
   "execution_count": null,
   "id": "59db3bfd",
   "metadata": {},
   "outputs": [],
   "source": [
    "patches = {\"x\": 8, \"y\": 8}\n",
    "strides = {\"x\": 8, \"y\": 8}\n",
    "domain_limits = None#{\"lat\": slice(-10, 10)}\n",
    "check_full_scan = True\n",
    "\n",
    "xrda_batches = XRDAPatcher(\n",
    "    da=da,\n",
    "    patches=patches,\n",
    "    strides=strides,\n",
    "    check_full_scan=check_full_scan\n",
    ")\n",
    "\n",
    "print(xrda_batches)\n",
    "print(f\"Dataset(size): {len(xrda_batches)}\")"
   ]
  },
  {
   "cell_type": "markdown",
   "id": "f57289c8",
   "metadata": {},
   "source": [
    "We will have a `[20,20]` patch with some overlap, like the boundaries of 2, `[2,2]`"
   ]
  },
  {
   "cell_type": "code",
   "execution_count": null,
   "id": "b32d3cd0",
   "metadata": {},
   "outputs": [],
   "source": [
    "patches = {\"x\": 8, \"y\": 8}\n",
    "strides = {\"x\": 2, \"y\": 2}\n",
    "domain_limits = None#{\"lat\": slice(-10, 10)}\n",
    "check_full_scan = True\n",
    "\n",
    "xrda_batches = XRDAPatcher(\n",
    "    da=da,\n",
    "    patches=patches,\n",
    "    strides=strides,\n",
    "    check_full_scan=check_full_scan\n",
    ")\n",
    "\n",
    "print(xrda_batches)\n",
    "print(f\"Dataset(size): {len(xrda_batches)}\")"
   ]
  },
  {
   "cell_type": "markdown",
   "id": "5b7420f9",
   "metadata": {},
   "source": [
    "## Case III: Cube-ify a 3D Volume"
   ]
  },
  {
   "cell_type": "code",
   "execution_count": null,
   "id": "a1e52abe",
   "metadata": {},
   "outputs": [],
   "source": [
    "TIME = tp.Literal[\"time\"]\n",
    "X = tp.Literal[\"x\"]\n",
    "Y = tp.Literal[\"y\"]\n",
    "Z = tp.Literal[\"z\"]\n",
    "@dataclass\n",
    "class TimeAxis:\n",
    "    data: xrdataclass.Data[TIME, tp.Literal[\"datetime64[ns]\"]]\n",
    "    name: xrdataclass.Name[str] = \"time\"\n",
    "    long_name: xrdataclass.Attr[str] = \"Date\"\n",
    "\n",
    "@dataclass\n",
    "class XAxis:\n",
    "    data: xrdataclass.Data[X, np.float32]\n",
    "    name: xrdataclass.Name[str] = \"x\"\n",
    "\n",
    "@dataclass\n",
    "class YAxis:\n",
    "    data: xrdataclass.Data[Y, np.float32]\n",
    "    name: xrdataclass.Name[str] = \"y\"\n",
    "\n",
    "@dataclass\n",
    "class ZAxis:\n",
    "    data: xrdataclass.Data[Z, np.float32]\n",
    "    name: xrdataclass.Name[str] = \"z\"\n",
    "\n",
    "@dataclass\n",
    "class Variable3D:\n",
    "    data: xrdataclass.Data[tuple[X, Y, Z], np.float32]\n",
    "    x: xrdataclass.Coordof[XAxis] = 0\n",
    "    y: xrdataclass.Coordof[YAxis] = 0\n",
    "    z: xrdataclass.Coordof[ZAxis] = 0\n",
    "    name: xrdataclass.Attr[str] = \"var\""
   ]
  },
  {
   "cell_type": "code",
   "execution_count": null,
   "id": "871c6df3",
   "metadata": {},
   "outputs": [],
   "source": [
    "x = np.linspace(-1, 1, 128)\n",
    "y = np.linspace(-2, 2, 128)\n",
    "z = np.linspace(-5, 5, 128)\n",
    "rng = np.random.RandomState(seed=123)\n",
    "\n",
    "data = rng.randn(x.shape[0], y.shape[0], z.shape[0])\n",
    "\n",
    "grid = Variable3D(data=data, x=x, y=y, z=z, name=\"var\")\n",
    "\n",
    "da = xrdataclass.asdataarray(grid)\n",
    "\n",
    "da"
   ]
  },
  {
   "cell_type": "markdown",
   "id": "0cf9327f",
   "metadata": {},
   "source": [
    "We will have a `[20,20]` patch with no overlap, `[20,20]`"
   ]
  },
  {
   "cell_type": "code",
   "execution_count": null,
   "id": "6ccc7e6a",
   "metadata": {},
   "outputs": [],
   "source": [
    "patches = {\"x\": 8, \"y\": 8, \"z\": 8}\n",
    "strides = {\"x\": 8, \"y\": 8, \"z\": 8}\n",
    "domain_limits = None#{\"lat\": slice(-10, 10)}\n",
    "check_full_scan = True\n",
    "\n",
    "xrda_batches = XRDAPatcher(\n",
    "    da=da,\n",
    "    patches=patches,\n",
    "    strides=strides,\n",
    "    check_full_scan=check_full_scan\n",
    ")\n",
    "\n",
    "print(xrda_batches)\n",
    "print(f\"Dataset(size): {len(xrda_batches)}\")"
   ]
  },
  {
   "cell_type": "markdown",
   "id": "c2c75e85",
   "metadata": {},
   "source": [
    "We will have a `[20,20]` patch with some overlap, like the boundaries of 2, `[2,2]`"
   ]
  },
  {
   "cell_type": "code",
   "execution_count": null,
   "id": "a744d338",
   "metadata": {},
   "outputs": [],
   "source": [
    "patches = {\"x\": 8, \"y\": 8, \"z\": 8}\n",
    "strides = {\"x\": 2, \"y\": 2, \"z\": 2}\n",
    "domain_limits = None#{\"lat\": slice(-10, 10)}\n",
    "check_full_scan = True\n",
    "\n",
    "xrda_batches = XRDAPatcher(\n",
    "    da=da,\n",
    "    patches=patches,\n",
    "    strides=strides,\n",
    "    check_full_scan=check_full_scan\n",
    ")\n",
    "\n",
    "print(xrda_batches)\n",
    "print(f\"Dataset(size): {len(xrda_batches)}\")"
   ]
  },
  {
   "cell_type": "markdown",
   "id": "599efd0f",
   "metadata": {},
   "source": [
    "## Case IV: Cube-ify a 2D+T Spatio-Temporal Field"
   ]
  },
  {
   "cell_type": "code",
   "execution_count": null,
   "id": "314bcfda",
   "metadata": {},
   "outputs": [],
   "source": [
    "TIME = tp.Literal[\"time\"]\n",
    "X = tp.Literal[\"x\"]\n",
    "Y = tp.Literal[\"y\"]\n",
    "Z = tp.Literal[\"z\"]\n",
    "\n",
    "@dataclass\n",
    "class TimeAxis:\n",
    "    data: xrdataclass.Data[TIME, tp.Literal[\"datetime64[ns]\"]]\n",
    "    name: xrdataclass.Name[str] = \"time\"\n",
    "    long_name: xrdataclass.Attr[str] = \"Date\"\n",
    "\n",
    "@dataclass\n",
    "class XAxis:\n",
    "    data: xrdataclass.Data[X, np.float32]\n",
    "    name: xrdataclass.Name[str] = \"x\"\n",
    "\n",
    "@dataclass\n",
    "class YAxis:\n",
    "    data: xrdataclass.Data[Y, np.float32]\n",
    "    name: xrdataclass.Name[str] = \"y\"\n",
    "\n",
    "@dataclass\n",
    "class ZAxis:\n",
    "    data: xrdataclass.Data[Z, np.float32]\n",
    "    name: xrdataclass.Name[str] = \"z\"\n",
    "\n",
    "@dataclass\n",
    "class Variable2DT:\n",
    "    data: xrdataclass.Data[tuple[TIME, X, Y], np.float32]\n",
    "    x: xrdataclass.Coordof[XAxis] = 0\n",
    "    y: xrdataclass.Coordof[YAxis] = 0\n",
    "    time: xrdataclass.Coordof[TimeAxis] = 0\n",
    "    name: xrdataclass.Attr[str] = \"var\""
   ]
  },
  {
   "cell_type": "code",
   "execution_count": null,
   "id": "52466466",
   "metadata": {},
   "outputs": [],
   "source": [
    "x = np.linspace(-1, 1, 200)\n",
    "y = np.linspace(-2, 2, 200)\n",
    "t = np.arange(1, 360+1, 1)\n",
    "rng = np.random.RandomState(seed=123)\n",
    "\n",
    "data = rng.randn(t.shape[0], x.shape[0], y.shape[0])\n",
    "\n",
    "grid = Variable2DT(data=data, x=x, y=y, time=t, name=\"var\")\n",
    "\n",
    "da = xrdataclass.asdataarray(grid)\n",
    "\n",
    "da"
   ]
  },
  {
   "cell_type": "markdown",
   "id": "e611244b",
   "metadata": {},
   "source": [
    "Now, this is a rather big field.\n",
    "Let's say we want to use some ML method with a CNN to learn how to predict ...\n",
    "However, ingesting this large patch would be very difficult.\n",
    "So instead, we will use the standard size for many CNNs, which is `[64,64]`.\n",
    "In addition, we will use a temporal window of 15 days. \n",
    "So the patch will be `[15,64,64]`. \n",
    "\n",
    "As will the above examples, we will also account for the overlap in the spatial borders with `[4,4]` strides.\n",
    "And lastly, we will have a 5 day overlap for the time steps.\n",
    "So the final strides will be `[5,4,4]`"
   ]
  },
  {
   "cell_type": "code",
   "execution_count": null,
   "id": "99cc314f",
   "metadata": {},
   "outputs": [],
   "source": [
    "patches = {\"x\": 64, \"y\": 64, \"time\": 15}\n",
    "strides = {\"x\": 4, \"y\": 4, \"time\": 5}\n",
    "domain_limits = None#{\"lat\": slice(-10, 10)}\n",
    "check_full_scan = True\n",
    "\n",
    "xrda_batches = XRDAPatcher(\n",
    "    da=da,\n",
    "    patches=patches,\n",
    "    strides=strides,\n",
    "    check_full_scan=check_full_scan\n",
    ")\n",
    "\n",
    "print(xrda_batches)\n",
    "print(f\"Dataset(size): {len(xrda_batches)}\")"
   ]
  },
  {
   "cell_type": "markdown",
   "id": "f941ae70",
   "metadata": {},
   "source": [
    "All of the sudden, we have a LOT of data if we do things in a patch-wise manner, more than 85K samples!\n",
    "However, we know from statistics that perhaps this isn't the greatest idea because there are a lot of overlap.\n",
    "So we can be clever and use a training dataset with less overlap. \n",
    "However, we can create a different dataset for predictions where we reduce the strides considerably so that we take a weighted average over the predictions!"
   ]
  },
  {
   "cell_type": "code",
   "execution_count": null,
   "id": "6ae00ce3",
   "metadata": {},
   "outputs": [],
   "source": [
    "patches = {\"x\": 64, \"y\": 64, \"time\": 15}\n",
    "strides = {\"x\": 1, \"y\": 1, \"time\": 1}\n",
    "domain_limits = None#{\"lat\": slice(-10, 10)}\n",
    "check_full_scan = True\n",
    "\n",
    "xrda_batches = XRDAPatcher(\n",
    "    da=da,\n",
    "    patches=patches,\n",
    "    strides=strides,\n",
    "    check_full_scan=check_full_scan\n",
    ")\n",
    "\n",
    "print(xrda_batches)\n",
    "print(f\"Dataset(size): {len(xrda_batches)}\")"
   ]
  },
  {
   "cell_type": "markdown",
   "id": "39061ed0",
   "metadata": {},
   "source": [
    "So this will cover use because we can take a weighted average of all of the predictions!"
   ]
  },
  {
   "cell_type": "markdown",
   "id": "e56ec026",
   "metadata": {},
   "source": [
    "## Case V: Reconstructing with multiple variables"
   ]
  },
  {
   "cell_type": "markdown",
   "id": "0e80a579",
   "metadata": {},
   "source": [
    "In this example, we look at how we can do reconstructions with multiple variables.\n",
    "This may occur when we have used different methods to make predictions and we want to reconstruct all of them.\n",
    "\n",
    "Another example is when we have some sort of latent variable representation and we would like to reconstruct each of the latent variable representations."
   ]
  },
  {
   "cell_type": "code",
   "execution_count": null,
   "id": "abb3e260",
   "metadata": {},
   "outputs": [],
   "source": [
    "t = np.arange(1, 360+1, 1)\n",
    "rng = np.random.RandomState(seed=123)\n",
    "ts = np.sin(t)\n",
    "\n",
    "ts = Variable1D(data=ts, time=t, name=\"var\")\n",
    "\n",
    "da = xrdataclass.asdataarray(ts)"
   ]
  },
  {
   "cell_type": "code",
   "execution_count": null,
   "id": "239b23bf",
   "metadata": {},
   "outputs": [],
   "source": [
    "patches = {\"time\": 30}\n",
    "strides = {\"time\": 30}\n",
    "domain_limits = None#{\"lat\": slice(-10, 10)}\n",
    "check_full_scan = True\n",
    "\n",
    "xrda_batches = XRDAPatcher(\n",
    "    da=da,\n",
    "    patches=patches,\n",
    "    strides=strides,\n",
    "    check_full_scan=check_full_scan\n",
    ")\n",
    "\n",
    "print(xrda_batches)\n",
    "print(f\"Dataset(size): {len(xrda_batches)}\")"
   ]
  },
  {
   "cell_type": "code",
   "execution_count": null,
   "id": "27e52aae",
   "metadata": {},
   "outputs": [],
   "source": [
    "all_batches = list(map(lambda x: x.data, xrda_batches))\n",
    "all_batches_latent = list(map(lambda x: einops.repeat(x, \"... -> ... N\", N=5), all_batches)) "
   ]
  },
  {
   "cell_type": "code",
   "execution_count": null,
   "id": "594033f0",
   "metadata": {},
   "outputs": [],
   "source": [
    "dims_labels = [\"time\", \"z\"]\n",
    "weight = np.ones((patches[\"time\"]))\n",
    "rec_da = xrda_batches.reconstruct(all_batches_latent, dims_labels=dims_labels, weight=weight)\n",
    "rec_da"
   ]
  },
  {
   "cell_type": "markdown",
   "id": "1a00215f",
   "metadata": {},
   "source": [
    "## Case VI: Choosing a Specific Dimension for Reconstruction"
   ]
  },
  {
   "cell_type": "code",
   "execution_count": null,
   "id": "f09ed706",
   "metadata": {},
   "outputs": [],
   "source": [
    "x = np.linspace(-1, 1, 50)\n",
    "y = np.linspace(-2, 2, 50)\n",
    "t = np.arange(1, 30+1, 1)\n",
    "rng = np.random.RandomState(seed=123)\n",
    "\n",
    "data = rng.randn(t.shape[0], x.shape[0], y.shape[0])\n",
    "\n",
    "grid = Variable2DT(data=data, x=x, y=y, time=t, name=\"var\")\n",
    "\n",
    "da = xrdataclass.asdataarray(grid)\n",
    "\n",
    "da"
   ]
  },
  {
   "cell_type": "markdown",
   "id": "1207546b",
   "metadata": {},
   "source": [
    "Now, this is a rather big field.\n",
    "Let's say we want to use some ML method with a CNN to learn how to predict ...\n",
    "However, ingesting this large patch would be very difficult.\n",
    "So instead, we will use the standard size for many CNNs, which is `[64,64]`.\n",
    "In addition, we will use a temporal window of 15 days. \n",
    "So the patch will be `[15,64,64]`. \n",
    "\n",
    "As will the above examples, we will also account for the overlap in the spatial borders with `[4,4]` strides.\n",
    "And lastly, we will have a 5 day overlap for the time steps.\n",
    "So the final strides will be `[5,4,4]`"
   ]
  },
  {
   "cell_type": "code",
   "execution_count": null,
   "id": "4a58ccb9",
   "metadata": {},
   "outputs": [],
   "source": [
    "patches = {\"x\": 10, \"y\": 10, \"time\": 5}\n",
    "strides = {\"x\": 8, \"y\": 8, \"time\": 1}\n",
    "domain_limits = None#{\"lat\": slice(-10, 10)}\n",
    "check_full_scan = True\n",
    "\n",
    "xrda_batches = XRDAPatcher(\n",
    "    da=da,\n",
    "    patches=patches,\n",
    "    strides=strides,\n",
    "    check_full_scan=check_full_scan\n",
    ")\n",
    "\n",
    "print(xrda_batches)\n",
    "print(f\"Dataset(size): {len(xrda_batches)}\")"
   ]
  },
  {
   "cell_type": "markdown",
   "id": "d735bbdb",
   "metadata": {},
   "source": [
    "Here, we can reconstruct just the time series. \n",
    "So in this case, we will take the mean of all of the spatial values x,y and just have the time series."
   ]
  },
  {
   "cell_type": "code",
   "execution_count": null,
   "id": "b036b122",
   "metadata": {},
   "outputs": [],
   "source": [
    "all_batches = list(map(lambda x: x.mean(dim=[\"x\", \"y\"]).data, xrda_batches))"
   ]
  },
  {
   "cell_type": "markdown",
   "id": "4c53bef5",
   "metadata": {},
   "source": [
    "But we still want to reconstruct! \n",
    "So we can pass these through the reconstruction but pay careful attention to the dimension we wish to reconstruct."
   ]
  },
  {
   "cell_type": "code",
   "execution_count": null,
   "id": "7de53c06",
   "metadata": {},
   "outputs": [],
   "source": [
    "dims_labels = [\"time\"]\n",
    "weight = np.ones((patches[\"time\"]))\n",
    "rec_da = xrda_batches.reconstruct(all_batches, dims_labels=dims_labels, weight=weight)\n",
    "rec_da"
   ]
  },
  {
   "cell_type": "markdown",
   "id": "d3f21207",
   "metadata": {},
   "source": [
    "Here, we can reconstruct just the x,y patches. \n",
    "So in this case, we will take the mean of all of the temporal coordinates and just have the spatial patches."
   ]
  },
  {
   "cell_type": "code",
   "execution_count": null,
   "id": "069a34a5",
   "metadata": {},
   "outputs": [],
   "source": [
    "all_batches = list(map(lambda x: x.mean(dim=[\"time\"]).data, xrda_batches))"
   ]
  },
  {
   "cell_type": "markdown",
   "id": "c0400332",
   "metadata": {},
   "source": [
    "Again, we still want to reconstruct! \n",
    "So, like above, we can simply pass the correct dimensions to the reconstruction."
   ]
  },
  {
   "cell_type": "code",
   "execution_count": null,
   "id": "07bb40d2",
   "metadata": {},
   "outputs": [],
   "source": [
    "dims_labels = [\"x\", \"y\"]\n",
    "weight = np.ones((patches[\"x\"], patches[\"y\"]))\n",
    "rec_da = xrda_batches.reconstruct(all_batches, dims_labels=dims_labels, weight=weight)\n",
    "rec_da"
   ]
  },
  {
   "cell_type": "code",
   "execution_count": null,
   "id": "12792223",
   "metadata": {},
   "outputs": [],
   "source": []
  }
 ],
 "metadata": {
  "jupytext": {
   "text_representation": {
    "extension": ".md",
    "format_name": "myst",
    "format_version": 0.13,
    "jupytext_version": "1.14.5"
   }
  },
  "kernelspec": {
   "display_name": "Python [conda env:miniconda3-jejeqx]",
   "language": "python",
   "name": "conda-env-miniconda3-jejeqx-py"
  },
  "source_map": [
   14,
   18,
   29,
   53,
   57,
   73,
   86,
   88,
   94,
   113,
   128,
   143,
   147,
   176,
   192,
   194,
   198,
   213,
   217,
   232,
   236,
   271,
   285,
   289,
   304,
   308,
   323,
   327,
   363,
   377,
   390,
   405,
   412,
   427,
   431,
   435,
   442,
   453,
   470,
   475,
   480,
   484,
   498,
   511,
   526,
   531,
   533,
   538,
   543,
   548,
   550,
   555,
   562
  ]
 },
 "nbformat": 4,
 "nbformat_minor": 5
}